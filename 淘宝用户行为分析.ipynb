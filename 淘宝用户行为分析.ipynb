{
 "cells": [
  {
   "cell_type": "markdown",
   "metadata": {
    "id": "4B66042586B54C3A8935B002CE4C1985",
    "jupyter": {},
    "mdEditEnable": false,
    "notebookId": "66d9595c20251d33778caaad",
    "runtime": {
     "execution_status": null,
     "is_visible": false,
     "status": "default"
    },
    "scrolled": false,
    "slideshow": {
     "slide_type": "slide"
    },
    "tags": []
   },
   "source": [
    "## 淘宝用户行为数据分析  \n",
    "### 项目介绍  \n",
    "\n",
    "- 本数据集共有大约1200万条数据，数据为淘宝APP2014年11月18日至2014年12月18日的用户行为数据，共6列字段，列字段分别是：  \n",
    "    - user_id：用户身份，脱敏  \n",
    "    - item_id：商品ID，脱敏  \n",
    "    - behavior_type：用户行为类型（包含点击、收藏、加购物车、支付四种行为，分别用数字1、2、3、4表示）  \n",
    "    - user_geohash：地理位置  \n",
    "    - item_category：品类ID（商品所属的品类）  \n",
    "    - time：用户行为发生的时间"
   ]
  },
  {
   "cell_type": "markdown",
   "metadata": {
    "id": "DBCF906A0A784963881A8F12D786E310",
    "jupyter": {},
    "mdEditEnable": false,
    "notebookId": "66d9595c20251d33778caaad",
    "runtime": {
     "execution_status": null,
     "is_visible": false,
     "status": "default"
    },
    "scrolled": false,
    "slideshow": {
     "slide_type": "slide"
    },
    "tags": []
   },
   "source": [
    "- 提出问题  \n",
    "    - 不同时间维度下用户活跃度如何变化？  \n",
    "    - 用户的留存情况如何（复购率及漏斗流失情况）？  \n",
    "    - 用户价值情况？  \n"
   ]
  },
  {
   "cell_type": "code",
   "execution_count": 1,
   "metadata": {
    "collapsed": false,
    "id": "5B5E065CF59549E9909E03B8A6E7D5CC",
    "jupyter": {
     "outputs_hidden": false
    },
    "notebookId": "66d9595c20251d33778caaad",
    "slideshow": {
     "slide_type": "slide"
    },
    "tags": []
   },
   "outputs": [],
   "source": [
    "# 导入相关工具\n",
    "import pandas as pd\n",
    "import numpy as np\n",
    "import matplotlib.pyplot as plt\n",
    "%matplotlib inline\n",
    "plt.rcParams['font.sans-serif']=['Microsoft YaHei'] # 用来正常显示中文标签\n",
    "plt.rcParams['axes.unicode_minus']=False # 用来正常显示负号\n",
    "import seaborn as sns\n",
    "import warnings\n",
    "warnings.filterwarnings('ignore')"
   ]
  },
  {
   "cell_type": "markdown",
   "metadata": {
    "id": "5DF14406074946B5807DAB48B5421996",
    "jupyter": {},
    "mdEditEnable": false,
    "notebookId": "66d9595c20251d33778caaad",
    "runtime": {
     "execution_status": null,
     "is_visible": false,
     "status": "default"
    },
    "scrolled": false,
    "slideshow": {
     "slide_type": "slide"
    },
    "tags": []
   },
   "source": [
    "### 数据预处理"
   ]
  },
  {
   "cell_type": "code",
   "execution_count": 2,
   "metadata": {
    "collapsed": false,
    "id": "22C3534455A148F99E5CD03BBEE40D73",
    "jupyter": {
     "outputs_hidden": false
    },
    "notebookId": "66d9595c20251d33778caaad",
    "slideshow": {
     "slide_type": "slide"
    },
    "tags": []
   },
   "outputs": [],
   "source": [
    "# 读取相应的数据\n",
    "data = pd.read_csv('./tianchi_mobile_recommend_train_user.csv')"
   ]
  },
  {
   "cell_type": "code",
   "execution_count": 3,
   "metadata": {
    "collapsed": false,
    "id": "96D62EFDB9A6433691B3892D32A3FC25",
    "jupyter": {
     "outputs_hidden": false
    },
    "notebookId": "66d9595c20251d33778caaad",
    "slideshow": {
     "slide_type": "slide"
    },
    "tags": []
   },
   "outputs": [
    {
     "data": {
      "text/html": [
       "<div>\n",
       "<style scoped>\n",
       "    .dataframe tbody tr th:only-of-type {\n",
       "        vertical-align: middle;\n",
       "    }\n",
       "\n",
       "    .dataframe tbody tr th {\n",
       "        vertical-align: top;\n",
       "    }\n",
       "\n",
       "    .dataframe thead th {\n",
       "        text-align: right;\n",
       "    }\n",
       "</style>\n",
       "<table border=\"1\" class=\"dataframe\">\n",
       "  <thead>\n",
       "    <tr style=\"text-align: right;\">\n",
       "      <th></th>\n",
       "      <th>user_id</th>\n",
       "      <th>item_id</th>\n",
       "      <th>behavior_type</th>\n",
       "      <th>user_geohash</th>\n",
       "      <th>item_category</th>\n",
       "      <th>time</th>\n",
       "    </tr>\n",
       "  </thead>\n",
       "  <tbody>\n",
       "    <tr>\n",
       "      <th>0</th>\n",
       "      <td>98047837</td>\n",
       "      <td>232431562</td>\n",
       "      <td>1</td>\n",
       "      <td>NaN</td>\n",
       "      <td>4245</td>\n",
       "      <td>2014-12-06 02</td>\n",
       "    </tr>\n",
       "    <tr>\n",
       "      <th>1</th>\n",
       "      <td>97726136</td>\n",
       "      <td>383583590</td>\n",
       "      <td>1</td>\n",
       "      <td>NaN</td>\n",
       "      <td>5894</td>\n",
       "      <td>2014-12-09 20</td>\n",
       "    </tr>\n",
       "    <tr>\n",
       "      <th>2</th>\n",
       "      <td>98607707</td>\n",
       "      <td>64749712</td>\n",
       "      <td>1</td>\n",
       "      <td>NaN</td>\n",
       "      <td>2883</td>\n",
       "      <td>2014-12-18 11</td>\n",
       "    </tr>\n",
       "    <tr>\n",
       "      <th>3</th>\n",
       "      <td>98662432</td>\n",
       "      <td>320593836</td>\n",
       "      <td>1</td>\n",
       "      <td>96nn52n</td>\n",
       "      <td>6562</td>\n",
       "      <td>2014-12-06 10</td>\n",
       "    </tr>\n",
       "    <tr>\n",
       "      <th>4</th>\n",
       "      <td>98145908</td>\n",
       "      <td>290208520</td>\n",
       "      <td>1</td>\n",
       "      <td>NaN</td>\n",
       "      <td>13926</td>\n",
       "      <td>2014-12-16 21</td>\n",
       "    </tr>\n",
       "  </tbody>\n",
       "</table>\n",
       "</div>"
      ],
      "text/plain": [
       "    user_id    item_id  behavior_type user_geohash  item_category  \\\n",
       "0  98047837  232431562              1          NaN           4245   \n",
       "1  97726136  383583590              1          NaN           5894   \n",
       "2  98607707   64749712              1          NaN           2883   \n",
       "3  98662432  320593836              1      96nn52n           6562   \n",
       "4  98145908  290208520              1          NaN          13926   \n",
       "\n",
       "            time  \n",
       "0  2014-12-06 02  \n",
       "1  2014-12-09 20  \n",
       "2  2014-12-18 11  \n",
       "3  2014-12-06 10  \n",
       "4  2014-12-16 21  "
      ]
     },
     "execution_count": 3,
     "metadata": {},
     "output_type": "execute_result"
    }
   ],
   "source": [
    "data.head()"
   ]
  },
  {
   "cell_type": "code",
   "execution_count": 4,
   "metadata": {
    "collapsed": false,
    "id": "26D98C35BCE64B4F8A1EAD2E517ECDAB",
    "jupyter": {
     "outputs_hidden": false
    },
    "notebookId": "66d9595c20251d33778caaad",
    "slideshow": {
     "slide_type": "slide"
    },
    "tags": []
   },
   "outputs": [
    {
     "name": "stdout",
     "output_type": "stream",
     "text": [
      "<class 'pandas.core.frame.DataFrame'>\n",
      "RangeIndex: 12256906 entries, 0 to 12256905\n",
      "Data columns (total 6 columns):\n",
      " #   Column         Dtype \n",
      "---  ------         ----- \n",
      " 0   user_id        int64 \n",
      " 1   item_id        int64 \n",
      " 2   behavior_type  int64 \n",
      " 3   user_geohash   object\n",
      " 4   item_category  int64 \n",
      " 5   time           object\n",
      "dtypes: int64(4), object(2)\n",
      "memory usage: 561.1+ MB\n"
     ]
    }
   ],
   "source": [
    "data.info() # 查看详细信息"
   ]
  },
  {
   "cell_type": "code",
   "execution_count": 5,
   "metadata": {
    "collapsed": false,
    "id": "A57E1100E92A469791BF022EE2FD8DB8",
    "jupyter": {
     "outputs_hidden": false
    },
    "notebookId": "66d9595c20251d33778caaad",
    "slideshow": {
     "slide_type": "slide"
    },
    "tags": []
   },
   "outputs": [
    {
     "data": {
      "text/plain": [
       "4092866"
      ]
     },
     "execution_count": 5,
     "metadata": {},
     "output_type": "execute_result"
    }
   ],
   "source": [
    "# 查看重复值数量\n",
    "data.duplicated().sum()"
   ]
  },
  {
   "cell_type": "code",
   "execution_count": 6,
   "metadata": {
    "collapsed": false,
    "id": "7851FD8DD27244BC9B14FA0D516392CD",
    "jupyter": {
     "outputs_hidden": false
    },
    "notebookId": "66d9595c20251d33778caaad",
    "slideshow": {
     "slide_type": "slide"
    },
    "tags": []
   },
   "outputs": [],
   "source": [
    "# 删除重复值\n",
    "data.drop_duplicates(inplace=True)"
   ]
  },
  {
   "cell_type": "code",
   "execution_count": 7,
   "metadata": {
    "collapsed": false,
    "id": "C292EA94D7BE4A65A82CB2FA1F7D1CA6",
    "jupyter": {
     "outputs_hidden": false
    },
    "notebookId": "66d9595c20251d33778caaad",
    "slideshow": {
     "slide_type": "slide"
    },
    "tags": []
   },
   "outputs": [
    {
     "data": {
      "text/plain": [
       "user_id                0\n",
       "item_id                0\n",
       "behavior_type          0\n",
       "user_geohash     4308015\n",
       "item_category          0\n",
       "time                   0\n",
       "dtype: int64"
      ]
     },
     "execution_count": 7,
     "metadata": {},
     "output_type": "execute_result"
    }
   ],
   "source": [
    "#查看缺失值\n",
    "data.isnull().sum()"
   ]
  },
  {
   "cell_type": "code",
   "execution_count": 8,
   "metadata": {
    "collapsed": false,
    "id": "05EE8396989D431994E693340C1B024F",
    "jupyter": {
     "outputs_hidden": false
    },
    "notebookId": "66d9595c20251d33778caaad",
    "slideshow": {
     "slide_type": "slide"
    },
    "tags": []
   },
   "outputs": [],
   "source": [
    "# 缺失值均为地理信息，对用户行为分析无影响，不做处理\n",
    "data.drop('user_geohash',axis=1, inplace=True)"
   ]
  },
  {
   "cell_type": "code",
   "execution_count": 9,
   "metadata": {
    "collapsed": false,
    "id": "068BD7D3CB2A448B8C5FBB555FD8CC5D",
    "jupyter": {
     "outputs_hidden": false
    },
    "notebookId": "66d9595c20251d33778caaad",
    "slideshow": {
     "slide_type": "slide"
    },
    "tags": []
   },
   "outputs": [
    {
     "data": {
      "text/html": [
       "<div>\n",
       "<style scoped>\n",
       "    .dataframe tbody tr th:only-of-type {\n",
       "        vertical-align: middle;\n",
       "    }\n",
       "\n",
       "    .dataframe tbody tr th {\n",
       "        vertical-align: top;\n",
       "    }\n",
       "\n",
       "    .dataframe thead th {\n",
       "        text-align: right;\n",
       "    }\n",
       "</style>\n",
       "<table border=\"1\" class=\"dataframe\">\n",
       "  <thead>\n",
       "    <tr style=\"text-align: right;\">\n",
       "      <th></th>\n",
       "      <th>user_id</th>\n",
       "      <th>item_id</th>\n",
       "      <th>behavior_type</th>\n",
       "      <th>item_category</th>\n",
       "      <th>time</th>\n",
       "    </tr>\n",
       "  </thead>\n",
       "  <tbody>\n",
       "    <tr>\n",
       "      <th>0</th>\n",
       "      <td>98047837</td>\n",
       "      <td>232431562</td>\n",
       "      <td>1</td>\n",
       "      <td>4245</td>\n",
       "      <td>2014-12-06 02</td>\n",
       "    </tr>\n",
       "    <tr>\n",
       "      <th>1</th>\n",
       "      <td>97726136</td>\n",
       "      <td>383583590</td>\n",
       "      <td>1</td>\n",
       "      <td>5894</td>\n",
       "      <td>2014-12-09 20</td>\n",
       "    </tr>\n",
       "    <tr>\n",
       "      <th>2</th>\n",
       "      <td>98607707</td>\n",
       "      <td>64749712</td>\n",
       "      <td>1</td>\n",
       "      <td>2883</td>\n",
       "      <td>2014-12-18 11</td>\n",
       "    </tr>\n",
       "    <tr>\n",
       "      <th>3</th>\n",
       "      <td>98662432</td>\n",
       "      <td>320593836</td>\n",
       "      <td>1</td>\n",
       "      <td>6562</td>\n",
       "      <td>2014-12-06 10</td>\n",
       "    </tr>\n",
       "    <tr>\n",
       "      <th>4</th>\n",
       "      <td>98145908</td>\n",
       "      <td>290208520</td>\n",
       "      <td>1</td>\n",
       "      <td>13926</td>\n",
       "      <td>2014-12-16 21</td>\n",
       "    </tr>\n",
       "  </tbody>\n",
       "</table>\n",
       "</div>"
      ],
      "text/plain": [
       "    user_id    item_id  behavior_type  item_category           time\n",
       "0  98047837  232431562              1           4245  2014-12-06 02\n",
       "1  97726136  383583590              1           5894  2014-12-09 20\n",
       "2  98607707   64749712              1           2883  2014-12-18 11\n",
       "3  98662432  320593836              1           6562  2014-12-06 10\n",
       "4  98145908  290208520              1          13926  2014-12-16 21"
      ]
     },
     "execution_count": 9,
     "metadata": {},
     "output_type": "execute_result"
    }
   ],
   "source": [
    "data.head()"
   ]
  },
  {
   "cell_type": "code",
   "execution_count": 10,
   "metadata": {
    "collapsed": false,
    "id": "98D4159234BC4FAE86A6C478872C8717",
    "jupyter": {
     "outputs_hidden": false
    },
    "notebookId": "66d9595c20251d33778caaad",
    "slideshow": {
     "slide_type": "slide"
    },
    "tags": []
   },
   "outputs": [],
   "source": [
    "# 重置索引\n",
    "data = data.reset_index(drop=True)"
   ]
  },
  {
   "cell_type": "code",
   "execution_count": 11,
   "metadata": {
    "collapsed": false,
    "id": "364809058DC149AAB078C8DA736197B8",
    "jupyter": {
     "outputs_hidden": false
    },
    "notebookId": "66d9595c20251d33778caaad",
    "slideshow": {
     "slide_type": "slide"
    },
    "tags": []
   },
   "outputs": [
    {
     "data": {
      "text/html": [
       "<div>\n",
       "<style scoped>\n",
       "    .dataframe tbody tr th:only-of-type {\n",
       "        vertical-align: middle;\n",
       "    }\n",
       "\n",
       "    .dataframe tbody tr th {\n",
       "        vertical-align: top;\n",
       "    }\n",
       "\n",
       "    .dataframe thead th {\n",
       "        text-align: right;\n",
       "    }\n",
       "</style>\n",
       "<table border=\"1\" class=\"dataframe\">\n",
       "  <thead>\n",
       "    <tr style=\"text-align: right;\">\n",
       "      <th></th>\n",
       "      <th>user_id</th>\n",
       "      <th>item_id</th>\n",
       "      <th>behavior_type</th>\n",
       "      <th>item_category</th>\n",
       "      <th>time</th>\n",
       "      <th>date</th>\n",
       "      <th>hour</th>\n",
       "    </tr>\n",
       "  </thead>\n",
       "  <tbody>\n",
       "    <tr>\n",
       "      <th>0</th>\n",
       "      <td>98047837</td>\n",
       "      <td>232431562</td>\n",
       "      <td>1</td>\n",
       "      <td>4245</td>\n",
       "      <td>2014-12-06 02:00:00</td>\n",
       "      <td>2014-12-06</td>\n",
       "      <td>2</td>\n",
       "    </tr>\n",
       "    <tr>\n",
       "      <th>1</th>\n",
       "      <td>97726136</td>\n",
       "      <td>383583590</td>\n",
       "      <td>1</td>\n",
       "      <td>5894</td>\n",
       "      <td>2014-12-09 20:00:00</td>\n",
       "      <td>2014-12-09</td>\n",
       "      <td>20</td>\n",
       "    </tr>\n",
       "    <tr>\n",
       "      <th>2</th>\n",
       "      <td>98607707</td>\n",
       "      <td>64749712</td>\n",
       "      <td>1</td>\n",
       "      <td>2883</td>\n",
       "      <td>2014-12-18 11:00:00</td>\n",
       "      <td>2014-12-18</td>\n",
       "      <td>11</td>\n",
       "    </tr>\n",
       "    <tr>\n",
       "      <th>3</th>\n",
       "      <td>98662432</td>\n",
       "      <td>320593836</td>\n",
       "      <td>1</td>\n",
       "      <td>6562</td>\n",
       "      <td>2014-12-06 10:00:00</td>\n",
       "      <td>2014-12-06</td>\n",
       "      <td>10</td>\n",
       "    </tr>\n",
       "    <tr>\n",
       "      <th>4</th>\n",
       "      <td>98145908</td>\n",
       "      <td>290208520</td>\n",
       "      <td>1</td>\n",
       "      <td>13926</td>\n",
       "      <td>2014-12-16 21:00:00</td>\n",
       "      <td>2014-12-16</td>\n",
       "      <td>21</td>\n",
       "    </tr>\n",
       "  </tbody>\n",
       "</table>\n",
       "</div>"
      ],
      "text/plain": [
       "    user_id    item_id  behavior_type  item_category                time  \\\n",
       "0  98047837  232431562              1           4245 2014-12-06 02:00:00   \n",
       "1  97726136  383583590              1           5894 2014-12-09 20:00:00   \n",
       "2  98607707   64749712              1           2883 2014-12-18 11:00:00   \n",
       "3  98662432  320593836              1           6562 2014-12-06 10:00:00   \n",
       "4  98145908  290208520              1          13926 2014-12-16 21:00:00   \n",
       "\n",
       "        date  hour  \n",
       "0 2014-12-06     2  \n",
       "1 2014-12-09    20  \n",
       "2 2014-12-18    11  \n",
       "3 2014-12-06    10  \n",
       "4 2014-12-16    21  "
      ]
     },
     "execution_count": 11,
     "metadata": {},
     "output_type": "execute_result"
    }
   ],
   "source": [
    "# 将time列拆分为date列和hour列,用做不同时间维度的分析\n",
    "data['time'] = pd.to_datetime(data['time'])\n",
    "data['date'] = data['time'].dt.date\n",
    "data['date'] = pd.to_datetime(data['date'])\n",
    "data['hour'] = data['time'].dt.hour\n",
    "data.head()"
   ]
  },
  {
   "cell_type": "code",
   "execution_count": 12,
   "metadata": {
    "collapsed": false,
    "id": "982924E30AA54C93AB928CE8FB0527DB",
    "jupyter": {
     "outputs_hidden": false
    },
    "notebookId": "66d9595c20251d33778caaad",
    "slideshow": {
     "slide_type": "slide"
    },
    "tags": []
   },
   "outputs": [
    {
     "name": "stdout",
     "output_type": "stream",
     "text": [
      "<class 'pandas.core.frame.DataFrame'>\n",
      "RangeIndex: 8164040 entries, 0 to 8164039\n",
      "Data columns (total 7 columns):\n",
      " #   Column         Dtype         \n",
      "---  ------         -----         \n",
      " 0   user_id        int64         \n",
      " 1   item_id        int64         \n",
      " 2   behavior_type  int64         \n",
      " 3   item_category  int64         \n",
      " 4   time           datetime64[ns]\n",
      " 5   date           datetime64[ns]\n",
      " 6   hour           int64         \n",
      "dtypes: datetime64[ns](2), int64(5)\n",
      "memory usage: 436.0 MB\n"
     ]
    }
   ],
   "source": [
    "data.info()"
   ]
  },
  {
   "cell_type": "code",
   "execution_count": 13,
   "metadata": {
    "collapsed": false,
    "id": "C9B7C9CD67134073AA9ABF0D8BCB4AAB",
    "jupyter": {
     "outputs_hidden": false
    },
    "notebookId": "66d9595c20251d33778caaad",
    "slideshow": {
     "slide_type": "slide"
    },
    "tags": []
   },
   "outputs": [],
   "source": [
    "#将item_id和item_category转换成str\n",
    "data.item_id = data.item_id.astype(str)  #  ['item_id']\n",
    "data.item_category = data.item_category.astype(str)"
   ]
  },
  {
   "cell_type": "code",
   "execution_count": 14,
   "metadata": {
    "collapsed": false,
    "id": "7EC4F21DD99446AC8743C122FE6E529F",
    "jupyter": {
     "outputs_hidden": false
    },
    "notebookId": "66d9595c20251d33778caaad",
    "slideshow": {
     "slide_type": "slide"
    },
    "tags": []
   },
   "outputs": [
    {
     "data": {
      "text/plain": [
       "dtype('O')"
      ]
     },
     "execution_count": 14,
     "metadata": {},
     "output_type": "execute_result"
    }
   ],
   "source": [
    "data['item_id'].dtype"
   ]
  },
  {
   "cell_type": "code",
   "execution_count": 15,
   "metadata": {
    "collapsed": false,
    "id": "946F2C0F79934E05822FF162BBEC4054",
    "jupyter": {
     "outputs_hidden": false
    },
    "notebookId": "66d9595c20251d33778caaad",
    "slideshow": {
     "slide_type": "slide"
    },
    "tags": []
   },
   "outputs": [],
   "source": [
    "# 删除时间这一列 ,没有用了\n",
    "data.drop(labels='time',axis=1,inplace=True)"
   ]
  },
  {
   "cell_type": "markdown",
   "metadata": {
    "id": "ADA20DFD007D4022B000373F622F4CAA",
    "jupyter": {},
    "mdEditEnable": false,
    "notebookId": "66d9595c20251d33778caaad",
    "runtime": {
     "execution_status": null,
     "is_visible": false,
     "status": "default"
    },
    "scrolled": false,
    "slideshow": {
     "slide_type": "slide"
    },
    "tags": []
   },
   "source": [
    "### 用户行为分析"
   ]
  },
  {
   "cell_type": "markdown",
   "metadata": {
    "id": "41492E0439B54717B50603C4BDFE7EB2",
    "jupyter": {},
    "mdEditEnable": false,
    "notebookId": "66d9595c20251d33778caaad",
    "runtime": {
     "execution_status": null,
     "is_visible": false,
     "status": "default"
    },
    "scrolled": false,
    "slideshow": {
     "slide_type": "slide"
    },
    "tags": []
   },
   "source": [
    "1. #### 时间维度的活跃度分析"
   ]
  },
  {
   "cell_type": "code",
   "execution_count": 16,
   "metadata": {
    "collapsed": false,
    "id": "F3115A32660F40128194486267B5A6C8",
    "jupyter": {
     "outputs_hidden": false
    },
    "notebookId": "66d9595c20251d33778caaad",
    "slideshow": {
     "slide_type": "slide"
    },
    "tags": []
   },
   "outputs": [
    {
     "data": {
      "text/html": [
       "<div>\n",
       "<style scoped>\n",
       "    .dataframe tbody tr th:only-of-type {\n",
       "        vertical-align: middle;\n",
       "    }\n",
       "\n",
       "    .dataframe tbody tr th {\n",
       "        vertical-align: top;\n",
       "    }\n",
       "\n",
       "    .dataframe thead th {\n",
       "        text-align: right;\n",
       "    }\n",
       "</style>\n",
       "<table border=\"1\" class=\"dataframe\">\n",
       "  <thead>\n",
       "    <tr style=\"text-align: right;\">\n",
       "      <th></th>\n",
       "      <th>user_id</th>\n",
       "      <th>item_id</th>\n",
       "      <th>behavior_type</th>\n",
       "      <th>item_category</th>\n",
       "      <th>date</th>\n",
       "      <th>hour</th>\n",
       "    </tr>\n",
       "  </thead>\n",
       "  <tbody>\n",
       "    <tr>\n",
       "      <th>0</th>\n",
       "      <td>98047837</td>\n",
       "      <td>232431562</td>\n",
       "      <td>1</td>\n",
       "      <td>4245</td>\n",
       "      <td>2014-12-06</td>\n",
       "      <td>2</td>\n",
       "    </tr>\n",
       "    <tr>\n",
       "      <th>1</th>\n",
       "      <td>97726136</td>\n",
       "      <td>383583590</td>\n",
       "      <td>1</td>\n",
       "      <td>5894</td>\n",
       "      <td>2014-12-09</td>\n",
       "      <td>20</td>\n",
       "    </tr>\n",
       "    <tr>\n",
       "      <th>2</th>\n",
       "      <td>98607707</td>\n",
       "      <td>64749712</td>\n",
       "      <td>1</td>\n",
       "      <td>2883</td>\n",
       "      <td>2014-12-18</td>\n",
       "      <td>11</td>\n",
       "    </tr>\n",
       "    <tr>\n",
       "      <th>3</th>\n",
       "      <td>98662432</td>\n",
       "      <td>320593836</td>\n",
       "      <td>1</td>\n",
       "      <td>6562</td>\n",
       "      <td>2014-12-06</td>\n",
       "      <td>10</td>\n",
       "    </tr>\n",
       "    <tr>\n",
       "      <th>4</th>\n",
       "      <td>98145908</td>\n",
       "      <td>290208520</td>\n",
       "      <td>1</td>\n",
       "      <td>13926</td>\n",
       "      <td>2014-12-16</td>\n",
       "      <td>21</td>\n",
       "    </tr>\n",
       "  </tbody>\n",
       "</table>\n",
       "</div>"
      ],
      "text/plain": [
       "    user_id    item_id  behavior_type item_category       date  hour\n",
       "0  98047837  232431562              1          4245 2014-12-06     2\n",
       "1  97726136  383583590              1          5894 2014-12-09    20\n",
       "2  98607707   64749712              1          2883 2014-12-18    11\n",
       "3  98662432  320593836              1          6562 2014-12-06    10\n",
       "4  98145908  290208520              1         13926 2014-12-16    21"
      ]
     },
     "execution_count": 16,
     "metadata": {},
     "output_type": "execute_result"
    }
   ],
   "source": [
    "data.head()"
   ]
  },
  {
   "cell_type": "markdown",
   "metadata": {
    "id": "085879140459456EA60A5FF2A266D8F3",
    "jupyter": {},
    "mdEditEnable": false,
    "notebookId": "66d9595c20251d33778caaad",
    "runtime": {
     "execution_status": null,
     "is_visible": false,
     "status": "default"
    },
    "scrolled": false,
    "slideshow": {
     "slide_type": "slide"
    },
    "tags": []
   },
   "source": [
    "- 每天活跃度的变化  \n",
    "    - 计算出日访问量，日独立访客量和人均访问量，封装成一个新的df"
   ]
  },
  {
   "cell_type": "code",
   "execution_count": 17,
   "metadata": {
    "collapsed": false,
    "id": "87EC7E3A69594697928C9D1B58E5CB4A",
    "jupyter": {
     "outputs_hidden": false
    },
    "notebookId": "66d9595c20251d33778caaad",
    "slideshow": {
     "slide_type": "slide"
    },
    "tags": []
   },
   "outputs": [
    {
     "data": {
      "text/plain": [
       "date\n",
       "2014-11-18    235493\n",
       "2014-11-19    233144\n",
       "2014-11-20    226523\n",
       "2014-11-21    213894\n",
       "2014-11-22    232994\n",
       "Name: user_id, dtype: int64"
      ]
     },
     "execution_count": 17,
     "metadata": {},
     "output_type": "execute_result"
    }
   ],
   "source": [
    "#日访问量  pv  page  views  \n",
    "pv_daily_s = data.groupby(by='date')['user_id'].count()\n",
    "pv_daily_s.head()"
   ]
  },
  {
   "cell_type": "code",
   "execution_count": 18,
   "metadata": {
    "collapsed": false,
    "id": "04CCE2D39AC14FFAAA8379183FE7BE73",
    "jupyter": {
     "outputs_hidden": false
    },
    "notebookId": "66d9595c20251d33778caaad",
    "slideshow": {
     "slide_type": "slide"
    },
    "tags": []
   },
   "outputs": [
    {
     "data": {
      "text/plain": [
       "date\n",
       "2014-11-18    6343\n",
       "2014-11-19    6420\n",
       "2014-11-20    6333\n",
       "2014-11-21    6276\n",
       "2014-11-22    6187\n",
       "Name: user_id, dtype: int64"
      ]
     },
     "execution_count": 18,
     "metadata": {},
     "output_type": "execute_result"
    }
   ],
   "source": [
    "#日独立访客量 uv  unique  visitors  \n",
    "uv_daily_s = data.groupby(by='date')['user_id'].nunique()\n",
    "uv_daily_s.head()"
   ]
  },
  {
   "cell_type": "code",
   "execution_count": 19,
   "metadata": {
    "collapsed": false,
    "id": "0C17E7785CD240BFB49B0CEF92F86E9E",
    "jupyter": {
     "outputs_hidden": false
    },
    "notebookId": "66d9595c20251d33778caaad",
    "slideshow": {
     "slide_type": "slide"
    },
    "tags": []
   },
   "outputs": [
    {
     "data": {
      "text/plain": [
       "date\n",
       "2014-11-18    37.126439\n",
       "2014-11-19    36.315265\n",
       "2014-11-20    35.768672\n",
       "2014-11-21    34.081262\n",
       "2014-11-22    37.658639\n",
       "Name: user_id, dtype: float64"
      ]
     },
     "execution_count": 19,
     "metadata": {},
     "output_type": "execute_result"
    }
   ],
   "source": [
    "#人均访问量（日访问量/日独立访客量）也可以叫做访问深度\n",
    "uv_pv_s = pv_daily_s / uv_daily_s\n",
    "uv_pv_s.head()"
   ]
  },
  {
   "cell_type": "code",
   "execution_count": 20,
   "metadata": {
    "collapsed": false,
    "id": "810B27DEBCF1400C9579C0698CBB514E",
    "jupyter": {
     "outputs_hidden": false
    },
    "notebookId": "66d9595c20251d33778caaad",
    "slideshow": {
     "slide_type": "slide"
    },
    "tags": []
   },
   "outputs": [
    {
     "data": {
      "text/html": [
       "<div>\n",
       "<style scoped>\n",
       "    .dataframe tbody tr th:only-of-type {\n",
       "        vertical-align: middle;\n",
       "    }\n",
       "\n",
       "    .dataframe tbody tr th {\n",
       "        vertical-align: top;\n",
       "    }\n",
       "\n",
       "    .dataframe thead th {\n",
       "        text-align: right;\n",
       "    }\n",
       "</style>\n",
       "<table border=\"1\" class=\"dataframe\">\n",
       "  <thead>\n",
       "    <tr style=\"text-align: right;\">\n",
       "      <th></th>\n",
       "      <th>pv</th>\n",
       "      <th>uv</th>\n",
       "      <th>pv/uv</th>\n",
       "    </tr>\n",
       "    <tr>\n",
       "      <th>date</th>\n",
       "      <th></th>\n",
       "      <th></th>\n",
       "      <th></th>\n",
       "    </tr>\n",
       "  </thead>\n",
       "  <tbody>\n",
       "    <tr>\n",
       "      <th>2014-11-18</th>\n",
       "      <td>235493</td>\n",
       "      <td>6343</td>\n",
       "      <td>37.126439</td>\n",
       "    </tr>\n",
       "    <tr>\n",
       "      <th>2014-11-19</th>\n",
       "      <td>233144</td>\n",
       "      <td>6420</td>\n",
       "      <td>36.315265</td>\n",
       "    </tr>\n",
       "    <tr>\n",
       "      <th>2014-11-20</th>\n",
       "      <td>226523</td>\n",
       "      <td>6333</td>\n",
       "      <td>35.768672</td>\n",
       "    </tr>\n",
       "    <tr>\n",
       "      <th>2014-11-21</th>\n",
       "      <td>213894</td>\n",
       "      <td>6276</td>\n",
       "      <td>34.081262</td>\n",
       "    </tr>\n",
       "    <tr>\n",
       "      <th>2014-11-22</th>\n",
       "      <td>232994</td>\n",
       "      <td>6187</td>\n",
       "      <td>37.658639</td>\n",
       "    </tr>\n",
       "  </tbody>\n",
       "</table>\n",
       "</div>"
      ],
      "text/plain": [
       "                pv    uv      pv/uv\n",
       "date                               \n",
       "2014-11-18  235493  6343  37.126439\n",
       "2014-11-19  233144  6420  36.315265\n",
       "2014-11-20  226523  6333  35.768672\n",
       "2014-11-21  213894  6276  34.081262\n",
       "2014-11-22  232994  6187  37.658639"
      ]
     },
     "execution_count": 20,
     "metadata": {},
     "output_type": "execute_result"
    }
   ],
   "source": [
    "# 形成新的数据表\n",
    "df = pd.concat((pv_daily_s,uv_daily_s,uv_pv_s),axis=1)\n",
    "df.columns = ['pv','uv','pv/uv']\n",
    "df.head()"
   ]
  },
  {
   "cell_type": "code",
   "execution_count": 21,
   "metadata": {
    "collapsed": false,
    "id": "E0C2E77F5BDA4FB6810CBE2DD793E56C",
    "jupyter": {
     "outputs_hidden": false
    },
    "notebookId": "66d9595c20251d33778caaad",
    "slideshow": {
     "slide_type": "slide"
    },
    "tags": []
   },
   "outputs": [
    {
     "data": {
      "image/png": "[encoded data removed]",
      "text/plain": [
       "<Figure size 640x480 with 1 Axes>"
      ]
     },
     "metadata": {},
     "output_type": "display_data"
    }
   ],
   "source": [
    "# 绘制PV折线图\n",
    "plt.plot(df.index,df.pv)\n",
    "plt.title('pv')\n",
    "plt.xticks(rotation=30)\n",
    "plt.show()"
   ]
  },
  {
   "cell_type": "code",
   "execution_count": 22,
   "metadata": {
    "collapsed": false,
    "id": "F0DE53B6696F4458A336AC1C674237F4",
    "jupyter": {
     "outputs_hidden": false
    },
    "notebookId": "66d9595c20251d33778caaad",
    "slideshow": {
     "slide_type": "slide"
    },
    "tags": []
   },
   "outputs": [
    {
     "data": {
      "image/png": "[encoded data removed]",
      "text/plain": [
       "<Figure size 640x480 with 1 Axes>"
      ]
     },
     "metadata": {},
     "output_type": "display_data"
    }
   ],
   "source": [
    "# 绘制UV者折线图\n",
    "plt.plot(df.index,df.uv)\n",
    "plt.title('uv')\n",
    "plt.xticks(rotation=30)\n",
    "plt.show()"
   ]
  },
  {
   "cell_type": "markdown",
   "metadata": {
    "id": "A3B7C8B89BD34F0D94A71F92828FD7B8",
    "jupyter": {},
    "mdEditEnable": false,
    "notebookId": "66d9595c20251d33778caaad",
    "runtime": {
     "execution_status": null,
     "is_visible": false,
     "status": "default"
    },
    "scrolled": false,
    "slideshow": {
     "slide_type": "slide"
    },
    "tags": []
   },
   "source": [
    "- UV在一阶段升高, 但是PV降低 ,说明网站的弹出率升高了,需要对网站或者直接来了就走的那些人进行观察分析, 是什么原因导致弹出  \n",
    "    - 1、用户没有看到想看的东西就走了。也就是说关键词和着陆页的相关性较低。  \n",
    "    - 2、还是用户没有看到想看的东西。这个时候检查一下你的关键词是不是设置成广泛匹配了。  \n",
    "    - 3、着陆页体验太差，用户可能在你的网站上看到了想要的东西。但是浏览选择很不顺畅  \n",
    "    - 4、还是着陆页的问题。但这次不是说你的网站不好，而是你的网页打开速度太慢"
   ]
  },
  {
   "cell_type": "code",
   "execution_count": 23,
   "metadata": {
    "collapsed": false,
    "id": "05798E0CE6C941BB88362D958F335844",
    "jupyter": {
     "outputs_hidden": false
    },
    "notebookId": "66d9595c20251d33778caaad",
    "slideshow": {
     "slide_type": "slide"
    },
    "tags": []
   },
   "outputs": [
    {
     "data": {
      "image/png": "[encoded data removed]",
      "text/plain": [
       "<Figure size 640x480 with 1 Axes>"
      ]
     },
     "metadata": {},
     "output_type": "display_data"
    }
   ],
   "source": [
    "plt.plot(df.index,df['pv/uv'])\n",
    "plt.title('pv/uv')\n",
    "plt.xticks(rotation=30)\n",
    "plt.show()"
   ]
  },
  {
   "cell_type": "markdown",
   "metadata": {
    "id": "39DC13E059FF40AA9072E9F16D7E46CF",
    "jupyter": {},
    "mdEditEnable": false,
    "notebookId": "66d9595c20251d33778caaad",
    "runtime": {
     "execution_status": null,
     "is_visible": false,
     "status": "default"
    },
    "scrolled": false,
    "slideshow": {
     "slide_type": "slide"
    },
    "tags": []
   },
   "source": [
    "- 结论：在12月5日之前，活跃度在一定水平上波动。12月5日后，活跃度开始明显上升，并在双十二当天达到峰值。  \n",
    "- 可能原因：12月5日之后双十二预热活动开始，用户活跃度上升。"
   ]
  },
  {
   "cell_type": "markdown",
   "metadata": {
    "id": "9D4F74EB22524696B56AB21600E5C173",
    "jupyter": {},
    "mdEditEnable": false,
    "notebookId": "66d9595c20251d33778caaad",
    "runtime": {
     "execution_status": null,
     "is_visible": false,
     "status": "default"
    },
    "scrolled": false,
    "slideshow": {
     "slide_type": "slide"
    },
    "tags": []
   },
   "source": [
    "- 双十二当天活跃度的变化  \n",
    "    - 选择双十二当天的数据，分析其活跃时间段  \n",
    "        - 双12当天每小时的访问量  \n",
    "        - 双12当天每小时的访客量  \n",
    "        - 双12当天每小时的人均访问量  \n",
    "            - 形成一个新的df"
   ]
  },
  {
   "cell_type": "code",
   "execution_count": 24,
   "metadata": {
    "collapsed": false,
    "id": "2063F7F55EE6411BBE642D3F48C39B5B",
    "jupyter": {
     "outputs_hidden": false
    },
    "notebookId": "66d9595c20251d33778caaad",
    "slideshow": {
     "slide_type": "slide"
    },
    "tags": []
   },
   "outputs": [],
   "source": [
    "#取出双12当天的数据\n",
    "data_1212 = data.loc[data['date']=='2014-12-12']"
   ]
  },
  {
   "cell_type": "code",
   "execution_count": 25,
   "metadata": {
    "collapsed": false,
    "id": "512A06F84FA54117B2D063D6E43BD320",
    "jupyter": {
     "outputs_hidden": false
    },
    "notebookId": "66d9595c20251d33778caaad",
    "slideshow": {
     "slide_type": "slide"
    },
    "tags": []
   },
   "outputs": [],
   "source": [
    "#查看双12当天每小时的访问量\n",
    "pv_hour_s = data_1212.groupby(by='hour')['user_id'].count()\n",
    "#查看双12当天每小时的访客量\n",
    "uv_hour_s = data_1212.groupby(by='hour')['user_id'].nunique()\n",
    "#查看双12当天每小时的人均访问量\n",
    "pv_uv_s = pv_hour_s / uv_hour_s"
   ]
  },
  {
   "cell_type": "code",
   "execution_count": 26,
   "metadata": {
    "collapsed": false,
    "id": "2865FACDCEDF4C91A7D6678AFEB4F49B",
    "jupyter": {
     "outputs_hidden": false
    },
    "notebookId": "66d9595c20251d33778caaad",
    "slideshow": {
     "slide_type": "slide"
    },
    "tags": []
   },
   "outputs": [
    {
     "data": {
      "text/html": [
       "<div>\n",
       "<style scoped>\n",
       "    .dataframe tbody tr th:only-of-type {\n",
       "        vertical-align: middle;\n",
       "    }\n",
       "\n",
       "    .dataframe tbody tr th {\n",
       "        vertical-align: top;\n",
       "    }\n",
       "\n",
       "    .dataframe thead th {\n",
       "        text-align: right;\n",
       "    }\n",
       "</style>\n",
       "<table border=\"1\" class=\"dataframe\">\n",
       "  <thead>\n",
       "    <tr style=\"text-align: right;\">\n",
       "      <th></th>\n",
       "      <th>pv_hour</th>\n",
       "      <th>uv_hour</th>\n",
       "      <th>pv/uv</th>\n",
       "    </tr>\n",
       "    <tr>\n",
       "      <th>hour</th>\n",
       "      <th></th>\n",
       "      <th></th>\n",
       "      <th></th>\n",
       "    </tr>\n",
       "  </thead>\n",
       "  <tbody>\n",
       "    <tr>\n",
       "      <th>0</th>\n",
       "      <td>25075</td>\n",
       "      <td>1569</td>\n",
       "      <td>15.981517</td>\n",
       "    </tr>\n",
       "    <tr>\n",
       "      <th>1</th>\n",
       "      <td>11388</td>\n",
       "      <td>811</td>\n",
       "      <td>14.041924</td>\n",
       "    </tr>\n",
       "    <tr>\n",
       "      <th>2</th>\n",
       "      <td>5956</td>\n",
       "      <td>411</td>\n",
       "      <td>14.491484</td>\n",
       "    </tr>\n",
       "    <tr>\n",
       "      <th>3</th>\n",
       "      <td>3177</td>\n",
       "      <td>255</td>\n",
       "      <td>12.458824</td>\n",
       "    </tr>\n",
       "    <tr>\n",
       "      <th>4</th>\n",
       "      <td>2567</td>\n",
       "      <td>211</td>\n",
       "      <td>12.165877</td>\n",
       "    </tr>\n",
       "  </tbody>\n",
       "</table>\n",
       "</div>"
      ],
      "text/plain": [
       "      pv_hour  uv_hour      pv/uv\n",
       "hour                             \n",
       "0       25075     1569  15.981517\n",
       "1       11388      811  14.041924\n",
       "2        5956      411  14.491484\n",
       "3        3177      255  12.458824\n",
       "4        2567      211  12.165877"
      ]
     },
     "execution_count": 26,
     "metadata": {},
     "output_type": "execute_result"
    }
   ],
   "source": [
    "df = pd.concat((pv_hour_s,uv_hour_s,pv_uv_s),axis=1)\n",
    "df.columns = ['pv_hour','uv_hour','pv/uv']\n",
    "df.head()"
   ]
  },
  {
   "cell_type": "code",
   "execution_count": 27,
   "metadata": {
    "collapsed": false,
    "id": "8BF3BE8C82DA4FB99A35803BAEB7E675",
    "jupyter": {
     "outputs_hidden": false
    },
    "notebookId": "66d9595c20251d33778caaad",
    "slideshow": {
     "slide_type": "slide"
    },
    "tags": []
   },
   "outputs": [
    {
     "data": {
      "image/png": "[encoded data removed]",
      "text/plain": [
       "<Figure size 640x480 with 1 Axes>"
      ]
     },
     "metadata": {},
     "output_type": "display_data"
    }
   ],
   "source": [
    "plt.plot(df.index,df.pv_hour)\n",
    "plt.title('pv')\n",
    "plt.show()"
   ]
  },
  {
   "cell_type": "code",
   "execution_count": 28,
   "metadata": {
    "collapsed": false,
    "id": "1A36ED449FF94EDF983068358AAFCCF4",
    "jupyter": {
     "outputs_hidden": false
    },
    "notebookId": "66d9595c20251d33778caaad",
    "slideshow": {
     "slide_type": "slide"
    },
    "tags": []
   },
   "outputs": [
    {
     "data": {
      "image/png": "[encoded data removed]",
      "text/plain": [
       "<Figure size 640x480 with 1 Axes>"
      ]
     },
     "metadata": {},
     "output_type": "display_data"
    }
   ],
   "source": [
    "plt.plot(df.index,df.uv_hour)\n",
    "plt.title('uv')\n",
    "plt.show()"
   ]
  },
  {
   "cell_type": "code",
   "execution_count": 29,
   "metadata": {
    "collapsed": false,
    "id": "5EFFF6F840044A669D57B322C72D0C60",
    "jupyter": {
     "outputs_hidden": false
    },
    "notebookId": "66d9595c20251d33778caaad",
    "slideshow": {
     "slide_type": "slide"
    },
    "tags": []
   },
   "outputs": [
    {
     "data": {
      "image/png": "[encoded data removed]",
      "text/plain": [
       "<Figure size 640x480 with 1 Axes>"
      ]
     },
     "metadata": {},
     "output_type": "display_data"
    }
   ],
   "source": [
    "plt.plot(df.index,df['pv/uv'])\n",
    "plt.title('pv/uv')\n",
    "plt.show()"
   ]
  },
  {
   "cell_type": "markdown",
   "metadata": {
    "id": "5A7FC3DE3F7D4F52A16C8FAE165C32CE",
    "jupyter": {},
    "mdEditEnable": false,
    "notebookId": "66d9595c20251d33778caaad",
    "runtime": {
     "execution_status": null,
     "is_visible": false,
     "status": "default"
    },
    "scrolled": false,
    "slideshow": {
     "slide_type": "slide"
    },
    "tags": []
   },
   "source": [
    "- 结论：双十二当天0点和18点之后淘宝用户活跃度较高，6点跌至最低点。  \n",
    "- 建议：商家可以在18点后设置优惠券或采取其他促销手段，吸引更多人消费，提高购买率。"
   ]
  },
  {
   "cell_type": "markdown",
   "metadata": {
    "id": "8299C97C532A49B39CC167F483CF93F9",
    "jupyter": {},
    "mdEditEnable": false,
    "notebookId": "66d9595c20251d33778caaad",
    "runtime": {
     "execution_status": null,
     "is_visible": false,
     "status": "default"
    },
    "scrolled": false,
    "slideshow": {
     "slide_type": "slide"
    },
    "tags": []
   },
   "source": [
    "#### 2、用户行为活跃度变化  \n",
    "- 查看每天不同行为的各自的总量  \n",
    "\n",
    "![Image Name](https://cdn.kesci.com/upload/image/rds1rymiun.jpg?imageView2/0/w/320/h/320)  \n",
    "\n",
    "- 提示：源数据中的一行数据表示一个用户的某一个行为的数据  \n",
    "- 注意：aggfunc的count和size的区别"
   ]
  },
  {
   "cell_type": "code",
   "execution_count": 30,
   "metadata": {
    "collapsed": false,
    "id": "290111703CEB4E94921B4DB41889867D",
    "jupyter": {
     "outputs_hidden": false
    },
    "notebookId": "66d9595c20251d33778caaad",
    "slideshow": {
     "slide_type": "slide"
    },
    "tags": []
   },
   "outputs": [
    {
     "data": {
      "text/html": [
       "<div>\n",
       "<style scoped>\n",
       "    .dataframe tbody tr th:only-of-type {\n",
       "        vertical-align: middle;\n",
       "    }\n",
       "\n",
       "    .dataframe tbody tr th {\n",
       "        vertical-align: top;\n",
       "    }\n",
       "\n",
       "    .dataframe thead th {\n",
       "        text-align: right;\n",
       "    }\n",
       "</style>\n",
       "<table border=\"1\" class=\"dataframe\">\n",
       "  <thead>\n",
       "    <tr style=\"text-align: right;\">\n",
       "      <th></th>\n",
       "      <th>user_id</th>\n",
       "      <th>item_id</th>\n",
       "      <th>behavior_type</th>\n",
       "      <th>item_category</th>\n",
       "      <th>date</th>\n",
       "      <th>hour</th>\n",
       "    </tr>\n",
       "  </thead>\n",
       "  <tbody>\n",
       "    <tr>\n",
       "      <th>0</th>\n",
       "      <td>98047837</td>\n",
       "      <td>232431562</td>\n",
       "      <td>1</td>\n",
       "      <td>4245</td>\n",
       "      <td>2014-12-06</td>\n",
       "      <td>2</td>\n",
       "    </tr>\n",
       "    <tr>\n",
       "      <th>1</th>\n",
       "      <td>97726136</td>\n",
       "      <td>383583590</td>\n",
       "      <td>1</td>\n",
       "      <td>5894</td>\n",
       "      <td>2014-12-09</td>\n",
       "      <td>20</td>\n",
       "    </tr>\n",
       "    <tr>\n",
       "      <th>2</th>\n",
       "      <td>98607707</td>\n",
       "      <td>64749712</td>\n",
       "      <td>1</td>\n",
       "      <td>2883</td>\n",
       "      <td>2014-12-18</td>\n",
       "      <td>11</td>\n",
       "    </tr>\n",
       "    <tr>\n",
       "      <th>3</th>\n",
       "      <td>98662432</td>\n",
       "      <td>320593836</td>\n",
       "      <td>1</td>\n",
       "      <td>6562</td>\n",
       "      <td>2014-12-06</td>\n",
       "      <td>10</td>\n",
       "    </tr>\n",
       "    <tr>\n",
       "      <th>4</th>\n",
       "      <td>98145908</td>\n",
       "      <td>290208520</td>\n",
       "      <td>1</td>\n",
       "      <td>13926</td>\n",
       "      <td>2014-12-16</td>\n",
       "      <td>21</td>\n",
       "    </tr>\n",
       "  </tbody>\n",
       "</table>\n",
       "</div>"
      ],
      "text/plain": [
       "    user_id    item_id  behavior_type item_category       date  hour\n",
       "0  98047837  232431562              1          4245 2014-12-06     2\n",
       "1  97726136  383583590              1          5894 2014-12-09    20\n",
       "2  98607707   64749712              1          2883 2014-12-18    11\n",
       "3  98662432  320593836              1          6562 2014-12-06    10\n",
       "4  98145908  290208520              1         13926 2014-12-16    21"
      ]
     },
     "execution_count": 30,
     "metadata": {},
     "output_type": "execute_result"
    }
   ],
   "source": [
    "data.head()"
   ]
  },
  {
   "cell_type": "code",
   "execution_count": 31,
   "metadata": {
    "collapsed": false,
    "id": "22FF4F14BE9A4D4A800D52A933650C6F",
    "jupyter": {
     "outputs_hidden": false
    },
    "notebookId": "66d9595c20251d33778caaad",
    "slideshow": {
     "slide_type": "slide"
    },
    "tags": []
   },
   "outputs": [
    {
     "data": {
      "text/html": [
       "<div>\n",
       "<style scoped>\n",
       "    .dataframe tbody tr th:only-of-type {\n",
       "        vertical-align: middle;\n",
       "    }\n",
       "\n",
       "    .dataframe tbody tr th {\n",
       "        vertical-align: top;\n",
       "    }\n",
       "\n",
       "    .dataframe thead th {\n",
       "        text-align: right;\n",
       "    }\n",
       "</style>\n",
       "<table border=\"1\" class=\"dataframe\">\n",
       "  <thead>\n",
       "    <tr style=\"text-align: right;\">\n",
       "      <th></th>\n",
       "      <th>behavior_type</th>\n",
       "      <th>hour</th>\n",
       "      <th>item_category</th>\n",
       "      <th>item_id</th>\n",
       "      <th>user_id</th>\n",
       "    </tr>\n",
       "    <tr>\n",
       "      <th>date</th>\n",
       "      <th></th>\n",
       "      <th></th>\n",
       "      <th></th>\n",
       "      <th></th>\n",
       "      <th></th>\n",
       "    </tr>\n",
       "  </thead>\n",
       "  <tbody>\n",
       "    <tr>\n",
       "      <th>2014-11-18</th>\n",
       "      <td>235493</td>\n",
       "      <td>235493</td>\n",
       "      <td>235493</td>\n",
       "      <td>235493</td>\n",
       "      <td>235493</td>\n",
       "    </tr>\n",
       "    <tr>\n",
       "      <th>2014-11-19</th>\n",
       "      <td>233144</td>\n",
       "      <td>233144</td>\n",
       "      <td>233144</td>\n",
       "      <td>233144</td>\n",
       "      <td>233144</td>\n",
       "    </tr>\n",
       "  </tbody>\n",
       "</table>\n",
       "</div>"
      ],
      "text/plain": [
       "            behavior_type    hour  item_category  item_id  user_id\n",
       "date                                                              \n",
       "2014-11-18         235493  235493         235493   235493   235493\n",
       "2014-11-19         233144  233144         233144   233144   233144"
      ]
     },
     "execution_count": 31,
     "metadata": {},
     "output_type": "execute_result"
    }
   ],
   "source": [
    "data.pivot_table(index='date',aggfunc='count').head(2)"
   ]
  },
  {
   "cell_type": "code",
   "execution_count": 32,
   "metadata": {
    "collapsed": false,
    "id": "B0C93B5A1075497A91B2CD4A109751CC",
    "jupyter": {
     "outputs_hidden": false
    },
    "notebookId": "66d9595c20251d33778caaad",
    "slideshow": {
     "slide_type": "slide"
    },
    "tags": []
   },
   "outputs": [
    {
     "data": {
      "text/plain": [
       "date\n",
       "2014-11-18    235493\n",
       "2014-11-19    233144\n",
       "dtype: int64"
      ]
     },
     "execution_count": 32,
     "metadata": {},
     "output_type": "execute_result"
    }
   ],
   "source": [
    "data.pivot_table(index='date',aggfunc='size').head(2)"
   ]
  },
  {
   "cell_type": "code",
   "execution_count": 33,
   "metadata": {
    "collapsed": false,
    "id": "07EAE7C651404CB693EE36CAAF66B3EF",
    "jupyter": {
     "outputs_hidden": false
    },
    "notebookId": "66d9595c20251d33778caaad",
    "slideshow": {
     "slide_type": "slide"
    },
    "tags": []
   },
   "outputs": [
    {
     "data": {
      "text/html": [
       "<div>\n",
       "<style scoped>\n",
       "    .dataframe tbody tr th:only-of-type {\n",
       "        vertical-align: middle;\n",
       "    }\n",
       "\n",
       "    .dataframe tbody tr th {\n",
       "        vertical-align: top;\n",
       "    }\n",
       "\n",
       "    .dataframe thead th {\n",
       "        text-align: right;\n",
       "    }\n",
       "</style>\n",
       "<table border=\"1\" class=\"dataframe\">\n",
       "  <thead>\n",
       "    <tr style=\"text-align: right;\">\n",
       "      <th>behavior_type</th>\n",
       "      <th>1</th>\n",
       "      <th>2</th>\n",
       "      <th>3</th>\n",
       "      <th>4</th>\n",
       "    </tr>\n",
       "    <tr>\n",
       "      <th>date</th>\n",
       "      <th></th>\n",
       "      <th></th>\n",
       "      <th></th>\n",
       "      <th></th>\n",
       "    </tr>\n",
       "  </thead>\n",
       "  <tbody>\n",
       "    <tr>\n",
       "      <th>2014-11-18</th>\n",
       "      <td>215480</td>\n",
       "      <td>6797</td>\n",
       "      <td>9800</td>\n",
       "      <td>3416</td>\n",
       "    </tr>\n",
       "    <tr>\n",
       "      <th>2014-11-19</th>\n",
       "      <td>213108</td>\n",
       "      <td>7079</td>\n",
       "      <td>9607</td>\n",
       "      <td>3350</td>\n",
       "    </tr>\n",
       "    <tr>\n",
       "      <th>2014-11-20</th>\n",
       "      <td>206740</td>\n",
       "      <td>7063</td>\n",
       "      <td>9552</td>\n",
       "      <td>3168</td>\n",
       "    </tr>\n",
       "    <tr>\n",
       "      <th>2014-11-21</th>\n",
       "      <td>196121</td>\n",
       "      <td>6722</td>\n",
       "      <td>8328</td>\n",
       "      <td>2723</td>\n",
       "    </tr>\n",
       "    <tr>\n",
       "      <th>2014-11-22</th>\n",
       "      <td>213292</td>\n",
       "      <td>7001</td>\n",
       "      <td>9493</td>\n",
       "      <td>3208</td>\n",
       "    </tr>\n",
       "  </tbody>\n",
       "</table>\n",
       "</div>"
      ],
      "text/plain": [
       "behavior_type       1     2     3     4\n",
       "date                                   \n",
       "2014-11-18     215480  6797  9800  3416\n",
       "2014-11-19     213108  7079  9607  3350\n",
       "2014-11-20     206740  7063  9552  3168\n",
       "2014-11-21     196121  6722  8328  2723\n",
       "2014-11-22     213292  7001  9493  3208"
      ]
     },
     "execution_count": 33,
     "metadata": {},
     "output_type": "execute_result"
    }
   ],
   "source": [
    "#count返回比size更加冗长的数据，因此使用size即可\n",
    "pv_df = data.pivot_table(index='date',columns='behavior_type',aggfunc='size',fill_value=0)\n",
    "pv_df.head()"
   ]
  },
  {
   "cell_type": "markdown",
   "metadata": {
    "id": "2D48C0729F0B473897A91FD0C79AA8F4",
    "jupyter": {},
    "mdEditEnable": false,
    "notebookId": "66d9595c20251d33778caaad",
    "runtime": {
     "execution_status": null,
     "is_visible": false,
     "status": "default"
    },
    "scrolled": false,
    "slideshow": {
     "slide_type": "slide"
    },
    "tags": []
   },
   "source": [
    "- 将四种行为的总量绘制在一个坐标系中查看"
   ]
  },
  {
   "cell_type": "code",
   "execution_count": 34,
   "metadata": {
    "collapsed": false,
    "id": "2BC7651E1E204AEAB0B3BD618CB479B1",
    "jupyter": {
     "outputs_hidden": false
    },
    "notebookId": "66d9595c20251d33778caaad",
    "slideshow": {
     "slide_type": "slide"
    },
    "tags": []
   },
   "outputs": [
    {
     "data": {
      "image/png": "[encoded data removed]",
      "text/plain": [
       "<Figure size 1200x800 with 1 Axes>"
      ]
     },
     "metadata": {},
     "output_type": "display_data"
    }
   ],
   "source": [
    "plt.figure(figsize=(12,8))\n",
    "plt.xticks(rotation=30)\n",
    "plt.plot(pv_df.index,pv_df[1],label='点击')\n",
    "plt.plot(pv_df.index,pv_df[2],label=\"收藏\")\n",
    "plt.plot(pv_df.index,pv_df[3],label='加购')\n",
    "plt.plot(pv_df.index,pv_df[4],label='支付')\n",
    "plt.legend()\n",
    "plt.show()"
   ]
  },
  {
   "cell_type": "markdown",
   "metadata": {
    "id": "275773D9CDA844209EF9EE9D2D55259C",
    "jupyter": {},
    "mdEditEnable": false,
    "notebookId": "66d9595c20251d33778caaad",
    "runtime": {
     "execution_status": null,
     "is_visible": false,
     "status": "default"
    },
    "scrolled": false,
    "slideshow": {
     "slide_type": "slide"
    },
    "tags": []
   },
   "source": [
    "- 结论：  \n",
    "    - 点击、收藏、加购物车、支付这四种行为均在双十二当天达到顶峰。  \n",
    "    - 只观察支付和收藏，发现双十二当天支付量大于收藏量。  \n",
    "        - 支付量大于收藏量说明很多用户购买了目标之外的商品，可能是受到促销的影响冲动消费，又或者是为了凑单等。  \n"
   ]
  },
  {
   "cell_type": "markdown",
   "metadata": {
    "id": "6A20BE812FC94EC29368BAF710133B67",
    "jupyter": {},
    "mdEditEnable": false,
    "notebookId": "66d9595c20251d33778caaad",
    "runtime": {
     "execution_status": null,
     "is_visible": false,
     "status": "default"
    },
    "scrolled": false,
    "slideshow": {
     "slide_type": "slide"
    },
    "tags": []
   },
   "source": [
    "#### 3、留存率分析"
   ]
  },
  {
   "cell_type": "markdown",
   "metadata": {
    "id": "A53938445BE9423EB3AF7B806717DF70",
    "jupyter": {},
    "mdEditEnable": false,
    "notebookId": "66d9595c20251d33778caaad",
    "runtime": {
     "execution_status": null,
     "is_visible": false,
     "status": "default"
    },
    "scrolled": false,
    "slideshow": {
     "slide_type": "slide"
    },
    "tags": []
   },
   "source": [
    "- 漏斗转化情况  \n",
    "    - 查看不同行为的总量，封装到df中  \n",
    "\n",
    "    - 单一环节转化率(%)-各环节转换率作为新的列存在  \n",
    "        - 计算点击到收藏、收藏到加购，加购到支付的转化率  \n",
    "    - 整体转化率(%)-作为新的一列存在  \n",
    "        - 计算点击到收藏、加购和支付的整体转化率  \n",
    "    - 每一环节流失率(%)  \n",
    "        - 100-单一环节转化率"
   ]
  },
  {
   "cell_type": "code",
   "execution_count": 35,
   "metadata": {
    "collapsed": false,
    "id": "6A7372BEEE1347D6AD61C238A9123DCB",
    "jupyter": {
     "outputs_hidden": false
    },
    "notebookId": "66d9595c20251d33778caaad",
    "slideshow": {
     "slide_type": "slide"
    },
    "tags": []
   },
   "outputs": [
    {
     "data": {
      "text/plain": [
       "1    7479078\n",
       "3     333371\n",
       "2     240919\n",
       "4     110672\n",
       "Name: behavior_type, dtype: int64"
      ]
     },
     "execution_count": 35,
     "metadata": {},
     "output_type": "execute_result"
    }
   ],
   "source": [
    "s = data['behavior_type'].value_counts()\n",
    "s"
   ]
  },
  {
   "cell_type": "code",
   "execution_count": 36,
   "metadata": {
    "collapsed": false,
    "id": "9F2B964969664CE8AA52AFE80F2EA380",
    "jupyter": {
     "outputs_hidden": false
    },
    "notebookId": "66d9595c20251d33778caaad",
    "slideshow": {
     "slide_type": "slide"
    },
    "tags": []
   },
   "outputs": [
    {
     "data": {
      "text/html": [
       "<div>\n",
       "<style scoped>\n",
       "    .dataframe tbody tr th:only-of-type {\n",
       "        vertical-align: middle;\n",
       "    }\n",
       "\n",
       "    .dataframe tbody tr th {\n",
       "        vertical-align: top;\n",
       "    }\n",
       "\n",
       "    .dataframe thead th {\n",
       "        text-align: right;\n",
       "    }\n",
       "</style>\n",
       "<table border=\"1\" class=\"dataframe\">\n",
       "  <thead>\n",
       "    <tr style=\"text-align: right;\">\n",
       "      <th></th>\n",
       "      <th>0</th>\n",
       "      <th>1</th>\n",
       "      <th>2</th>\n",
       "      <th>3</th>\n",
       "    </tr>\n",
       "  </thead>\n",
       "  <tbody>\n",
       "    <tr>\n",
       "      <th>0</th>\n",
       "      <td>点击</td>\n",
       "      <td>加购物车</td>\n",
       "      <td>收藏</td>\n",
       "      <td>支付</td>\n",
       "    </tr>\n",
       "    <tr>\n",
       "      <th>1</th>\n",
       "      <td>7479078</td>\n",
       "      <td>333371</td>\n",
       "      <td>240919</td>\n",
       "      <td>110672</td>\n",
       "    </tr>\n",
       "  </tbody>\n",
       "</table>\n",
       "</div>"
      ],
      "text/plain": [
       "         0       1       2       3\n",
       "0       点击    加购物车      收藏      支付\n",
       "1  7479078  333371  240919  110672"
      ]
     },
     "execution_count": 36,
     "metadata": {},
     "output_type": "execute_result"
    }
   ],
   "source": [
    "#查看不同行为的访问量，封装到df中\n",
    "s = data['behavior_type'].value_counts()\n",
    "s.index = ['点击','加购物车','收藏','支付']\n",
    "df = pd.DataFrame([s.index,s])\n",
    "df"
   ]
  },
  {
   "cell_type": "code",
   "execution_count": 37,
   "metadata": {
    "collapsed": false,
    "id": "8A4F8326B26B458EACA802564EBA9027",
    "jupyter": {
     "outputs_hidden": false
    },
    "notebookId": "66d9595c20251d33778caaad",
    "slideshow": {
     "slide_type": "slide"
    },
    "tags": []
   },
   "outputs": [
    {
     "data": {
      "text/html": [
       "<div>\n",
       "<style scoped>\n",
       "    .dataframe tbody tr th:only-of-type {\n",
       "        vertical-align: middle;\n",
       "    }\n",
       "\n",
       "    .dataframe tbody tr th {\n",
       "        vertical-align: top;\n",
       "    }\n",
       "\n",
       "    .dataframe thead th {\n",
       "        text-align: right;\n",
       "    }\n",
       "</style>\n",
       "<table border=\"1\" class=\"dataframe\">\n",
       "  <thead>\n",
       "    <tr style=\"text-align: right;\">\n",
       "      <th></th>\n",
       "      <th>用户行为</th>\n",
       "      <th>访问量</th>\n",
       "    </tr>\n",
       "  </thead>\n",
       "  <tbody>\n",
       "    <tr>\n",
       "      <th>0</th>\n",
       "      <td>点击</td>\n",
       "      <td>7479078</td>\n",
       "    </tr>\n",
       "    <tr>\n",
       "      <th>1</th>\n",
       "      <td>加购物车</td>\n",
       "      <td>333371</td>\n",
       "    </tr>\n",
       "    <tr>\n",
       "      <th>2</th>\n",
       "      <td>收藏</td>\n",
       "      <td>240919</td>\n",
       "    </tr>\n",
       "    <tr>\n",
       "      <th>3</th>\n",
       "      <td>支付</td>\n",
       "      <td>110672</td>\n",
       "    </tr>\n",
       "  </tbody>\n",
       "</table>\n",
       "</div>"
      ],
      "text/plain": [
       "   用户行为      访问量\n",
       "0    点击  7479078\n",
       "1  加购物车   333371\n",
       "2    收藏   240919\n",
       "3    支付   110672"
      ]
     },
     "execution_count": 37,
     "metadata": {},
     "output_type": "execute_result"
    }
   ],
   "source": [
    "#查看不同行为的访问量，封装到df中\n",
    "s = data['behavior_type'].value_counts()\n",
    "s.index = ['点击','加购物车','收藏','支付']\n",
    "df = pd.DataFrame([s.index,s]).T\n",
    "df.columns = ['用户行为','访问量']\n",
    "df"
   ]
  },
  {
   "cell_type": "code",
   "execution_count": 38,
   "metadata": {
    "collapsed": false,
    "id": "671FADDA6D8B4BD894C08C7003A58643",
    "jupyter": {
     "outputs_hidden": false
    },
    "notebookId": "66d9595c20251d33778caaad",
    "slideshow": {
     "slide_type": "slide"
    },
    "tags": []
   },
   "outputs": [
    {
     "data": {
      "text/plain": [
       "[100, 4.457380976639099, 72.26753376868413, 45.937431252827714]"
      ]
     },
     "execution_count": 38,
     "metadata": {},
     "output_type": "execute_result"
    }
   ],
   "source": [
    "#计算点击到收藏、收藏到加购，加购到支付的转化率\n",
    "temp1 = df['访问量'][1:].values\n",
    "temp2 = df['访问量'][0:-1].values\n",
    "p = temp1 / temp2 * 100\n",
    "p = list(p)\n",
    "p.insert(0,100)\n",
    "p"
   ]
  },
  {
   "cell_type": "code",
   "execution_count": 39,
   "metadata": {
    "collapsed": false,
    "id": "04C506AFFFE04C9BB10E9FA044C997A6",
    "jupyter": {
     "outputs_hidden": false
    },
    "notebookId": "66d9595c20251d33778caaad",
    "slideshow": {
     "slide_type": "slide"
    },
    "tags": []
   },
   "outputs": [
    {
     "data": {
      "text/plain": [
       "array([333371, 240919, 110672], dtype=object)"
      ]
     },
     "execution_count": 39,
     "metadata": {},
     "output_type": "execute_result"
    }
   ],
   "source": [
    "temp1"
   ]
  },
  {
   "cell_type": "code",
   "execution_count": 40,
   "metadata": {
    "collapsed": false,
    "id": "DA9DB8CCCDB34E94B120EE53DF7FD18B",
    "jupyter": {
     "outputs_hidden": false
    },
    "notebookId": "66d9595c20251d33778caaad",
    "slideshow": {
     "slide_type": "slide"
    },
    "tags": []
   },
   "outputs": [
    {
     "data": {
      "text/plain": [
       "array([7479078, 333371, 240919], dtype=object)"
      ]
     },
     "execution_count": 40,
     "metadata": {},
     "output_type": "execute_result"
    }
   ],
   "source": [
    "temp2"
   ]
  },
  {
   "cell_type": "code",
   "execution_count": 41,
   "metadata": {
    "collapsed": false,
    "id": "1A8CCC99ED5B43DFA473F3C3CFF4A2CA",
    "jupyter": {
     "outputs_hidden": false
    },
    "notebookId": "66d9595c20251d33778caaad",
    "slideshow": {
     "slide_type": "slide"
    },
    "tags": []
   },
   "outputs": [
    {
     "data": {
      "text/html": [
       "<div>\n",
       "<style scoped>\n",
       "    .dataframe tbody tr th:only-of-type {\n",
       "        vertical-align: middle;\n",
       "    }\n",
       "\n",
       "    .dataframe tbody tr th {\n",
       "        vertical-align: top;\n",
       "    }\n",
       "\n",
       "    .dataframe thead th {\n",
       "        text-align: right;\n",
       "    }\n",
       "</style>\n",
       "<table border=\"1\" class=\"dataframe\">\n",
       "  <thead>\n",
       "    <tr style=\"text-align: right;\">\n",
       "      <th></th>\n",
       "      <th>用户行为</th>\n",
       "      <th>访问量</th>\n",
       "      <th>单一环节转化率(%)</th>\n",
       "    </tr>\n",
       "  </thead>\n",
       "  <tbody>\n",
       "    <tr>\n",
       "      <th>0</th>\n",
       "      <td>点击</td>\n",
       "      <td>7479078</td>\n",
       "      <td>100.000000</td>\n",
       "    </tr>\n",
       "    <tr>\n",
       "      <th>1</th>\n",
       "      <td>加购物车</td>\n",
       "      <td>333371</td>\n",
       "      <td>4.457381</td>\n",
       "    </tr>\n",
       "    <tr>\n",
       "      <th>2</th>\n",
       "      <td>收藏</td>\n",
       "      <td>240919</td>\n",
       "      <td>72.267534</td>\n",
       "    </tr>\n",
       "    <tr>\n",
       "      <th>3</th>\n",
       "      <td>支付</td>\n",
       "      <td>110672</td>\n",
       "      <td>45.937431</td>\n",
       "    </tr>\n",
       "  </tbody>\n",
       "</table>\n",
       "</div>"
      ],
      "text/plain": [
       "   用户行为      访问量  单一环节转化率(%)\n",
       "0    点击  7479078  100.000000\n",
       "1  加购物车   333371    4.457381\n",
       "2    收藏   240919   72.267534\n",
       "3    支付   110672   45.937431"
      ]
     },
     "execution_count": 41,
     "metadata": {},
     "output_type": "execute_result"
    }
   ],
   "source": [
    "df['单一环节转化率(%)'] = p\n",
    "df"
   ]
  },
  {
   "cell_type": "code",
   "execution_count": 42,
   "metadata": {
    "collapsed": false,
    "id": "A94ACA0A0E0A495A9B87B9C285AC5255",
    "jupyter": {
     "outputs_hidden": false
    },
    "notebookId": "66d9595c20251d33778caaad",
    "slideshow": {
     "slide_type": "slide"
    },
    "tags": []
   },
   "outputs": [
    {
     "data": {
      "text/html": [
       "<div>\n",
       "<style scoped>\n",
       "    .dataframe tbody tr th:only-of-type {\n",
       "        vertical-align: middle;\n",
       "    }\n",
       "\n",
       "    .dataframe tbody tr th {\n",
       "        vertical-align: top;\n",
       "    }\n",
       "\n",
       "    .dataframe thead th {\n",
       "        text-align: right;\n",
       "    }\n",
       "</style>\n",
       "<table border=\"1\" class=\"dataframe\">\n",
       "  <thead>\n",
       "    <tr style=\"text-align: right;\">\n",
       "      <th></th>\n",
       "      <th>用户行为</th>\n",
       "      <th>访问量</th>\n",
       "      <th>单一环节转化率(%)</th>\n",
       "      <th>整体转化率(%)</th>\n",
       "    </tr>\n",
       "  </thead>\n",
       "  <tbody>\n",
       "    <tr>\n",
       "      <th>0</th>\n",
       "      <td>点击</td>\n",
       "      <td>7479078</td>\n",
       "      <td>100.000000</td>\n",
       "      <td>100.0</td>\n",
       "    </tr>\n",
       "    <tr>\n",
       "      <th>1</th>\n",
       "      <td>加购物车</td>\n",
       "      <td>333371</td>\n",
       "      <td>4.457381</td>\n",
       "      <td>4.457381</td>\n",
       "    </tr>\n",
       "    <tr>\n",
       "      <th>2</th>\n",
       "      <td>收藏</td>\n",
       "      <td>240919</td>\n",
       "      <td>72.267534</td>\n",
       "      <td>3.221239</td>\n",
       "    </tr>\n",
       "    <tr>\n",
       "      <th>3</th>\n",
       "      <td>支付</td>\n",
       "      <td>110672</td>\n",
       "      <td>45.937431</td>\n",
       "      <td>1.479755</td>\n",
       "    </tr>\n",
       "  </tbody>\n",
       "</table>\n",
       "</div>"
      ],
      "text/plain": [
       "   用户行为      访问量  单一环节转化率(%)  整体转化率(%)\n",
       "0    点击  7479078  100.000000     100.0\n",
       "1  加购物车   333371    4.457381  4.457381\n",
       "2    收藏   240919   72.267534  3.221239\n",
       "3    支付   110672   45.937431  1.479755"
      ]
     },
     "execution_count": 42,
     "metadata": {},
     "output_type": "execute_result"
    }
   ],
   "source": [
    "#计算整体转化率\n",
    "df['整体转化率(%)'] = df['访问量'] / df.iloc[0,1] * 100\n",
    "df"
   ]
  },
  {
   "cell_type": "code",
   "execution_count": 43,
   "metadata": {
    "collapsed": false,
    "id": "D32AB9B4364D4D7B9BABFDDC6CBED5C9",
    "jupyter": {
     "outputs_hidden": false
    },
    "notebookId": "66d9595c20251d33778caaad",
    "slideshow": {
     "slide_type": "slide"
    },
    "tags": []
   },
   "outputs": [
    {
     "data": {
      "text/html": [
       "<div>\n",
       "<style scoped>\n",
       "    .dataframe tbody tr th:only-of-type {\n",
       "        vertical-align: middle;\n",
       "    }\n",
       "\n",
       "    .dataframe tbody tr th {\n",
       "        vertical-align: top;\n",
       "    }\n",
       "\n",
       "    .dataframe thead th {\n",
       "        text-align: right;\n",
       "    }\n",
       "</style>\n",
       "<table border=\"1\" class=\"dataframe\">\n",
       "  <thead>\n",
       "    <tr style=\"text-align: right;\">\n",
       "      <th></th>\n",
       "      <th>用户行为</th>\n",
       "      <th>访问量</th>\n",
       "      <th>单一环节转化率(%)</th>\n",
       "      <th>整体转化率(%)</th>\n",
       "      <th>每一环节流失率(%)</th>\n",
       "    </tr>\n",
       "  </thead>\n",
       "  <tbody>\n",
       "    <tr>\n",
       "      <th>0</th>\n",
       "      <td>点击</td>\n",
       "      <td>7479078</td>\n",
       "      <td>100.000000</td>\n",
       "      <td>100.0</td>\n",
       "      <td>0.000000</td>\n",
       "    </tr>\n",
       "    <tr>\n",
       "      <th>1</th>\n",
       "      <td>加购物车</td>\n",
       "      <td>333371</td>\n",
       "      <td>4.457381</td>\n",
       "      <td>4.457381</td>\n",
       "      <td>95.542619</td>\n",
       "    </tr>\n",
       "    <tr>\n",
       "      <th>2</th>\n",
       "      <td>收藏</td>\n",
       "      <td>240919</td>\n",
       "      <td>72.267534</td>\n",
       "      <td>3.221239</td>\n",
       "      <td>27.732466</td>\n",
       "    </tr>\n",
       "    <tr>\n",
       "      <th>3</th>\n",
       "      <td>支付</td>\n",
       "      <td>110672</td>\n",
       "      <td>45.937431</td>\n",
       "      <td>1.479755</td>\n",
       "      <td>54.062569</td>\n",
       "    </tr>\n",
       "  </tbody>\n",
       "</table>\n",
       "</div>"
      ],
      "text/plain": [
       "   用户行为      访问量  单一环节转化率(%)  整体转化率(%)  每一环节流失率(%)\n",
       "0    点击  7479078  100.000000     100.0    0.000000\n",
       "1  加购物车   333371    4.457381  4.457381   95.542619\n",
       "2    收藏   240919   72.267534  3.221239   27.732466\n",
       "3    支付   110672   45.937431  1.479755   54.062569"
      ]
     },
     "execution_count": 43,
     "metadata": {},
     "output_type": "execute_result"
    }
   ],
   "source": [
    "#计算每一环节流失率(%)\n",
    "df['每一环节流失率(%)'] = 100 - df['单一环节转化率(%)']\n",
    "df"
   ]
  },
  {
   "cell_type": "code",
   "execution_count": 44,
   "metadata": {
    "collapsed": false,
    "id": "1DADB65B017843DAA63CDE0E538098AD",
    "jupyter": {
     "outputs_hidden": false
    },
    "notebookId": "66d9595c20251d33778caaad",
    "slideshow": {
     "slide_type": "slide"
    },
    "tags": []
   },
   "outputs": [
    {
     "data": {
      "text/html": [
       "\n",
       "<script>\n",
       "    require.config({\n",
       "        paths: {\n",
       "            'echarts':'https://assets.pyecharts.org/assets/echarts.min'\n",
       "        }\n",
       "    });\n",
       "</script>\n",
       "\n",
       "        <div id=\"0b1448e7275b47eeb31e90a47245a5b4\" style=\"width:900px; height:500px;\"></div>\n",
       "\n",
       "<script>\n",
       "        require(['echarts'], function(echarts) {\n",
       "                var chart_0b1448e7275b47eeb31e90a47245a5b4 = echarts.init(\n",
       "                    document.getElementById('0b1448e7275b47eeb31e90a47245a5b4'), 'white', {renderer: 'canvas'});\n",
       "                var option_0b1448e7275b47eeb31e90a47245a5b4 = {\n",
       "    \"animation\": true,\n",
       "    \"animationThreshold\": 2000,\n",
       "    \"animationDuration\": 1000,\n",
       "    \"animationEasing\": \"cubicOut\",\n",
       "    \"animationDelay\": 0,\n",
       "    \"animationDurationUpdate\": 300,\n",
       "    \"animationEasingUpdate\": \"cubicOut\",\n",
       "    \"animationDelayUpdate\": 0,\n",
       "    \"color\": [\n",
       "        \"#c23531\",\n",
       "        \"#2f4554\",\n",
       "        \"#61a0a8\",\n",
       "        \"#d48265\",\n",
       "        \"#749f83\",\n",
       "        \"#ca8622\",\n",
       "        \"#bda29a\",\n",
       "        \"#6e7074\",\n",
       "        \"#546570\",\n",
       "        \"#c4ccd3\",\n",
       "        \"#f05b72\",\n",
       "        \"#ef5b9c\",\n",
       "        \"#f47920\",\n",
       "        \"#905a3d\",\n",
       "        \"#fab27b\",\n",
       "        \"#2a5caa\",\n",
       "        \"#444693\",\n",
       "        \"#726930\",\n",
       "        \"#b2d235\",\n",
       "        \"#6d8346\",\n",
       "        \"#ac6767\",\n",
       "        \"#1d953f\",\n",
       "        \"#6950a1\",\n",
       "        \"#918597\"\n",
       "    ],\n",
       "    \"series\": [\n",
       "        {\n",
       "            \"type\": \"funnel\",\n",
       "            \"name\": \"\\u6574\\u4f53\\u8f6c\\u5316\\u7387(%)\",\n",
       "            \"data\": [\n",
       "                {\n",
       "                    \"name\": \"\\u70b9\\u51fb\",\n",
       "                    \"value\": 100.0\n",
       "                },\n",
       "                {\n",
       "                    \"name\": \"\\u52a0\\u8d2d\\u7269\\u8f66\",\n",
       "                    \"value\": 4.457380976639099\n",
       "                },\n",
       "                {\n",
       "                    \"name\": \"\\u6536\\u85cf\",\n",
       "                    \"value\": 3.221239302491564\n",
       "                },\n",
       "                {\n",
       "                    \"name\": \"\\u652f\\u4ed8\",\n",
       "                    \"value\": 1.479754590071129\n",
       "                }\n",
       "            ],\n",
       "            \"sort\": \"descending\",\n",
       "            \"gap\": 0,\n",
       "            \"label\": {\n",
       "                \"show\": true,\n",
       "                \"position\": \"inside\",\n",
       "                \"margin\": 8\n",
       "            },\n",
       "            \"tooltip\": {\n",
       "                \"show\": true,\n",
       "                \"trigger\": \"item\",\n",
       "                \"triggerOn\": \"mousemove|click\",\n",
       "                \"axisPointer\": {\n",
       "                    \"type\": \"line\"\n",
       "                },\n",
       "                \"showContent\": true,\n",
       "                \"alwaysShowContent\": false,\n",
       "                \"showDelay\": 0,\n",
       "                \"hideDelay\": 100,\n",
       "                \"formatter\": \"{a}<br/>{b}:{c}%\",\n",
       "                \"textStyle\": {\n",
       "                    \"fontSize\": 14\n",
       "                },\n",
       "                \"borderWidth\": 0,\n",
       "                \"padding\": 5\n",
       "            },\n",
       "            \"rippleEffect\": {\n",
       "                \"show\": true,\n",
       "                \"brushType\": \"stroke\",\n",
       "                \"scale\": 2.5,\n",
       "                \"period\": 4\n",
       "            }\n",
       "        }\n",
       "    ],\n",
       "    \"legend\": [\n",
       "        {\n",
       "            \"data\": [\n",
       "                \"\\u6536\\u85cf\",\n",
       "                \"\\u652f\\u4ed8\",\n",
       "                \"\\u52a0\\u8d2d\\u7269\\u8f66\",\n",
       "                \"\\u70b9\\u51fb\"\n",
       "            ],\n",
       "            \"selected\": {\n",
       "                \"\\u70b9\\u51fb\": true,\n",
       "                \"\\u52a0\\u8d2d\\u7269\\u8f66\": true,\n",
       "                \"\\u6536\\u85cf\": true,\n",
       "                \"\\u652f\\u4ed8\": true\n",
       "            },\n",
       "            \"show\": true,\n",
       "            \"padding\": 5,\n",
       "            \"itemGap\": 10,\n",
       "            \"itemWidth\": 25,\n",
       "            \"itemHeight\": 14\n",
       "        }\n",
       "    ],\n",
       "    \"tooltip\": {\n",
       "        \"show\": true,\n",
       "        \"trigger\": \"item\",\n",
       "        \"triggerOn\": \"mousemove|click\",\n",
       "        \"axisPointer\": {\n",
       "            \"type\": \"line\"\n",
       "        },\n",
       "        \"showContent\": true,\n",
       "        \"alwaysShowContent\": false,\n",
       "        \"showDelay\": 0,\n",
       "        \"hideDelay\": 100,\n",
       "        \"textStyle\": {\n",
       "            \"fontSize\": 14\n",
       "        },\n",
       "        \"borderWidth\": 0,\n",
       "        \"padding\": 5\n",
       "    },\n",
       "    \"title\": [\n",
       "        {\n",
       "            \"text\": \"\\u6574\\u4f53\\u8f6c\\u5316\\u7387(%)\",\n",
       "            \"padding\": 5,\n",
       "            \"itemGap\": 10\n",
       "        }\n",
       "    ]\n",
       "};\n",
       "                chart_0b1448e7275b47eeb31e90a47245a5b4.setOption(option_0b1448e7275b47eeb31e90a47245a5b4);\n",
       "        });\n",
       "    </script>\n"
      ],
      "text/plain": [
       "<pyecharts.render.display.HTML at 0x20b94e78c10>"
      ]
     },
     "execution_count": 44,
     "metadata": {},
     "output_type": "execute_result"
    }
   ],
   "source": [
    "#整体转化率的漏斗转化图\n",
    "from pyecharts.charts import Funnel\n",
    "from pyecharts import options as opts\n",
    "funnel = Funnel().add(\n",
    "                series_name = '整体转化率(%)',\n",
    "                data_pair = [ list(z) for z in zip(df['用户行为'],df['整体转化率(%)']) ],\n",
    "                is_selected = True,\n",
    "                label_opts = opts.LabelOpts(position = 'inside')\n",
    "                )\n",
    "funnel.set_series_opts(tooltip_opts = opts.TooltipOpts(formatter = '{a}<br/>{b}:{c}%'))\n",
    "funnel.set_global_opts(title_opts = opts.TitleOpts(title = '整体转化率(%)') )\n",
    "funnel.render_notebook()"
   ]
  },
  {
   "cell_type": "markdown",
   "metadata": {
    "id": "B5C43B0193134B39AEF2AE0B1AAE362A",
    "jupyter": {},
    "mdEditEnable": false,
    "notebookId": "66d9595c20251d33778caaad",
    "runtime": {
     "execution_status": null,
     "is_visible": false,
     "status": "default"
    },
    "scrolled": false,
    "slideshow": {
     "slide_type": "slide"
    },
    "tags": []
   },
   "source": [
    "- 结论：用户的流失主要发生在点击-收藏环节。"
   ]
  },
  {
   "cell_type": "markdown",
   "metadata": {
    "id": "D04FD4A2DC304AFFAD68953A32DEEB17",
    "jupyter": {},
    "mdEditEnable": false,
    "notebookId": "66d9595c20251d33778caaad",
    "runtime": {
     "execution_status": null,
     "is_visible": false,
     "status": "default"
    },
    "scrolled": false,
    "slideshow": {
     "slide_type": "slide"
    },
    "tags": []
   },
   "source": [
    "- 可能原因及建议  \n",
    "    - 点击-收藏环节流失  \n",
    "        - 原因：用户被投放的广告吸引，进入后发现与预期严重不合，造成流失。  \n",
    "        - 建议：优化广告。  \n",
    "        - 原因：客户通过检索或推荐到列表页面但没找到合适的产品，造成流失。  \n",
    "        - 建议：更新搜索引擎和相关算法，尽可能精准推送相关内容。  \n",
    "        - 原因：如果商品的评价过低，造成流失。  \n",
    "        - 建议：商家要做进一步调查，分析用户对商品评价低的原因，进一步改进，提升用户的购物体验，最终可以口碑营销。  \n",
    "    - 收藏-加购物车环节流失  \n",
    "        - 此类用户有较强的购买需求。可以对用户进行精准推送促销信息，刺激用户完成购买。  \n",
    "    - 加购物车-支付环节流失  \n",
    "        - 原因：生成订单页面步骤过多。  \n",
    "        - 建议:  \n",
    "            - 优化购物流程，尽可能支持多种支付方式，如银行卡、微信支付、支付宝支付、花呗等。  \n",
    "            - 考虑目前到淘宝的购物流程已经很难再简化，需要商家进一步调查，了解用户放弃支付的原因，方便做出调整。"
   ]
  },
  {
   "cell_type": "markdown",
   "metadata": {
    "id": "E66F8590C0154081A8C6D9AB2F71FAFE",
    "jupyter": {},
    "mdEditEnable": false,
    "notebookId": "66d9595c20251d33778caaad",
    "runtime": {
     "execution_status": null,
     "is_visible": false,
     "status": "default"
    },
    "scrolled": false,
    "slideshow": {
     "slide_type": "slide"
    },
    "tags": []
   },
   "source": [
    "#### 4、复购情况分析  \n",
    "- 用户购买次数直方图  \n",
    "- 计算复购率=购买次数大于1的用户数量/有购买行为的用户总数"
   ]
  },
  {
   "cell_type": "code",
   "execution_count": 45,
   "metadata": {
    "collapsed": false,
    "id": "DCC674453DD1413BB217100168B4E9B6",
    "jupyter": {
     "outputs_hidden": false
    },
    "notebookId": "66d9595c20251d33778caaad",
    "slideshow": {
     "slide_type": "slide"
    },
    "tags": []
   },
   "outputs": [
    {
     "data": {
      "image/png": "[encoded data removed]",
      "text/plain": [
       "<Figure size 640x480 with 1 Axes>"
      ]
     },
     "metadata": {},
     "output_type": "display_data"
    },
    {
     "data": {
      "text/plain": [
       "user_id\n",
       "4913          6\n",
       "6118          1\n",
       "7528          6\n",
       "7591         21\n",
       "12645         8\n",
       "             ..\n",
       "142376113     1\n",
       "142412247    11\n",
       "142430177     5\n",
       "142450275    39\n",
       "142455899     8\n",
       "Name: behavior_type, Length: 8886, dtype: int64"
      ]
     },
     "execution_count": 45,
     "metadata": {},
     "output_type": "execute_result"
    }
   ],
   "source": [
    "#用户购买次数直方图\n",
    "buy_df = data.loc[data['behavior_type'] == 4]\n",
    "user_buy_s = buy_df.groupby(by='user_id')['behavior_type'].count()\n",
    "plt.hist(user_buy_s,bins=50)\n",
    "plt.show()\n",
    "user_buy_s"
   ]
  },
  {
   "cell_type": "code",
   "execution_count": null,
   "metadata": {
    "collapsed": false,
    "id": "D67CF5444BBF4A2894797B314768F5F5",
    "jupyter": {
     "outputs_hidden": false
    },
    "notebookId": "66d9595c20251d33778caaad",
    "slideshow": {
     "slide_type": "slide"
    },
    "tags": []
   },
   "outputs": [],
   "source": []
  },
  {
   "cell_type": "code",
   "execution_count": 46,
   "metadata": {
    "collapsed": false,
    "id": "0BB68AA3174542569D8DB2BD809165EB",
    "jupyter": {
     "outputs_hidden": false
    },
    "notebookId": "66d9595c20251d33778caaad",
    "slideshow": {
     "slide_type": "slide"
    },
    "tags": []
   },
   "outputs": [
    {
     "data": {
      "text/plain": [
       "91.44722034661264"
      ]
     },
     "execution_count": 46,
     "metadata": {},
     "output_type": "execute_result"
    }
   ],
   "source": [
    "#计算复购率=购买次数大于1的用户数量/有购买行为的用户总数\n",
    "reBuy_rate = user_buy_s[user_buy_s > 1].count() / user_buy_s.count() * 100\n",
    "reBuy_rate"
   ]
  },
  {
   "cell_type": "markdown",
   "metadata": {
    "id": "41C2248B91CB4D42AFE77DBC9F4420BA",
    "jupyter": {},
    "mdEditEnable": false,
    "notebookId": "66d9595c20251d33778caaad",
    "runtime": {
     "execution_status": null,
     "is_visible": false,
     "status": "default"
    },
    "scrolled": false,
    "slideshow": {
     "slide_type": "slide"
    },
    "tags": []
   },
   "source": [
    "- 结论：2014年11月18日至2014年12月18日这一个月用户复购率高达91.45%"
   ]
  },
  {
   "cell_type": "markdown",
   "metadata": {
    "id": "F2FD7164A5BE4BE48DF07FCDCC78F228",
    "jupyter": {},
    "mdEditEnable": false,
    "notebookId": "66d9595c20251d33778caaad",
    "runtime": {
     "execution_status": null,
     "is_visible": false,
     "status": "default"
    },
    "scrolled": false,
    "slideshow": {
     "slide_type": "slide"
    },
    "tags": []
   },
   "source": [
    "### 用户价值分析（RMF模型）  \n",
    "- 对已购用户进行价值划分  \n",
    "- 各类用户占比"
   ]
  },
  {
   "cell_type": "code",
   "execution_count": 47,
   "metadata": {
    "collapsed": false,
    "id": "CD561468CECB46BC8F4D17E3DA771DE9",
    "jupyter": {
     "outputs_hidden": false
    },
    "notebookId": "66d9595c20251d33778caaad",
    "slideshow": {
     "slide_type": "slide"
    },
    "tags": []
   },
   "outputs": [
    {
     "data": {
      "text/html": [
       "<div>\n",
       "<style scoped>\n",
       "    .dataframe tbody tr th:only-of-type {\n",
       "        vertical-align: middle;\n",
       "    }\n",
       "\n",
       "    .dataframe tbody tr th {\n",
       "        vertical-align: top;\n",
       "    }\n",
       "\n",
       "    .dataframe thead th {\n",
       "        text-align: right;\n",
       "    }\n",
       "</style>\n",
       "<table border=\"1\" class=\"dataframe\">\n",
       "  <thead>\n",
       "    <tr style=\"text-align: right;\">\n",
       "      <th></th>\n",
       "      <th>user_id</th>\n",
       "      <th>item_id</th>\n",
       "      <th>behavior_type</th>\n",
       "      <th>item_category</th>\n",
       "      <th>date</th>\n",
       "      <th>hour</th>\n",
       "    </tr>\n",
       "  </thead>\n",
       "  <tbody>\n",
       "    <tr>\n",
       "      <th>143</th>\n",
       "      <td>101260672</td>\n",
       "      <td>73008997</td>\n",
       "      <td>4</td>\n",
       "      <td>4076</td>\n",
       "      <td>2014-11-25</td>\n",
       "      <td>13</td>\n",
       "    </tr>\n",
       "    <tr>\n",
       "      <th>146</th>\n",
       "      <td>116730636</td>\n",
       "      <td>85319721</td>\n",
       "      <td>4</td>\n",
       "      <td>10079</td>\n",
       "      <td>2014-12-17</td>\n",
       "      <td>11</td>\n",
       "    </tr>\n",
       "    <tr>\n",
       "      <th>152</th>\n",
       "      <td>104811265</td>\n",
       "      <td>61764614</td>\n",
       "      <td>4</td>\n",
       "      <td>675</td>\n",
       "      <td>2014-12-01</td>\n",
       "      <td>13</td>\n",
       "    </tr>\n",
       "    <tr>\n",
       "      <th>177</th>\n",
       "      <td>106230218</td>\n",
       "      <td>238910858</td>\n",
       "      <td>4</td>\n",
       "      <td>12090</td>\n",
       "      <td>2014-12-03</td>\n",
       "      <td>11</td>\n",
       "    </tr>\n",
       "    <tr>\n",
       "      <th>198</th>\n",
       "      <td>100684618</td>\n",
       "      <td>271840783</td>\n",
       "      <td>4</td>\n",
       "      <td>12220</td>\n",
       "      <td>2014-11-23</td>\n",
       "      <td>18</td>\n",
       "    </tr>\n",
       "  </tbody>\n",
       "</table>\n",
       "</div>"
      ],
      "text/plain": [
       "       user_id    item_id  behavior_type item_category       date  hour\n",
       "143  101260672   73008997              4          4076 2014-11-25    13\n",
       "146  116730636   85319721              4         10079 2014-12-17    11\n",
       "152  104811265   61764614              4           675 2014-12-01    13\n",
       "177  106230218  238910858              4         12090 2014-12-03    11\n",
       "198  100684618  271840783              4         12220 2014-11-23    18"
      ]
     },
     "execution_count": 47,
     "metadata": {},
     "output_type": "execute_result"
    }
   ],
   "source": [
    "#将已购用户的数据单独取出\n",
    "buy_df = data.loc[data['behavior_type'] == 4]\n",
    "buy_df.head()"
   ]
  },
  {
   "cell_type": "code",
   "execution_count": 48,
   "metadata": {
    "collapsed": false,
    "id": "22E59960CAAD42D5A44BF7EA0B3C3AB2",
    "jupyter": {
     "outputs_hidden": false
    },
    "notebookId": "66d9595c20251d33778caaad",
    "slideshow": {
     "slide_type": "slide"
    },
    "tags": []
   },
   "outputs": [
    {
     "data": {
      "text/plain": [
       "Timestamp('2014-12-18 00:00:00')"
      ]
     },
     "execution_count": 48,
     "metadata": {},
     "output_type": "execute_result"
    }
   ],
   "source": [
    "buy_df['date'].max()"
   ]
  },
  {
   "cell_type": "code",
   "execution_count": 49,
   "metadata": {
    "collapsed": false,
    "id": "7CE55D7BBA3845E6BF83A2F76F3BD324",
    "jupyter": {
     "outputs_hidden": false
    },
    "notebookId": "66d9595c20251d33778caaad",
    "scrolled": true,
    "slideshow": {
     "slide_type": "slide"
    },
    "tags": []
   },
   "outputs": [
    {
     "data": {
      "text/plain": [
       "(7591,\n",
       " 625981    2014-12-06\n",
       " 626385    2014-11-25\n",
       " 626392    2014-12-02\n",
       " 626532    2014-12-04\n",
       " 1605162   2014-12-10\n",
       " 1605542   2014-12-12\n",
       " 2979569   2014-12-12\n",
       " 4473350   2014-12-04\n",
       " 4473479   2014-12-03\n",
       " 5438459   2014-12-10\n",
       " 5438669   2014-12-12\n",
       " 5752184   2014-12-12\n",
       " 5752429   2014-12-13\n",
       " 6839354   2014-12-13\n",
       " 6839637   2014-12-10\n",
       " 7140622   2014-12-11\n",
       " 7140676   2014-12-10\n",
       " 7140785   2014-12-06\n",
       " 7770509   2014-12-11\n",
       " 7770801   2014-12-04\n",
       " 7770812   2014-12-11\n",
       " Name: date, dtype: datetime64[ns])"
      ]
     },
     "execution_count": 49,
     "metadata": {},
     "output_type": "execute_result"
    }
   ],
   "source": [
    "list(buy_df.groupby(by='user_id')['date'])[3]"
   ]
  },
  {
   "cell_type": "code",
   "execution_count": 52,
   "metadata": {
    "collapsed": false,
    "id": "590AE260BBD14C07A68A16852805F33C",
    "jupyter": {
     "outputs_hidden": false
    },
    "notebookId": "66d9595c20251d33778caaad",
    "slideshow": {
     "slide_type": "slide"
    },
    "tags": []
   },
   "outputs": [],
   "source": [
    "#计算R：R表示客户最近一次交易时间的间隔\n",
    "#/np.timedelta64(1,'D')去出days\n",
    "now_date = buy_df['date'].max()\n",
    "R = buy_df.groupby(by='user_id')['date'].apply(lambda x:now_date - x.max()) / np.timedelta64(1,'D')"
   ]
  },
  {
   "cell_type": "code",
   "execution_count": 53,
   "metadata": {
    "collapsed": false,
    "id": "3EAE96B7A78848F48FD9FFECB4F03AE5",
    "jupyter": {
     "outputs_hidden": false
    },
    "notebookId": "66d9595c20251d33778caaad",
    "slideshow": {
     "slide_type": "slide"
    },
    "tags": []
   },
   "outputs": [
    {
     "data": {
      "text/plain": [
       "user_id\n",
       "4913     2.0\n",
       "6118     1.0\n",
       "7528     5.0\n",
       "7591     5.0\n",
       "12645    4.0\n",
       "Name: date, dtype: float64"
      ]
     },
     "execution_count": 53,
     "metadata": {},
     "output_type": "execute_result"
    }
   ],
   "source": [
    "R.head()"
   ]
  },
  {
   "cell_type": "code",
   "execution_count": 54,
   "metadata": {
    "collapsed": false,
    "id": "40153B54CD024DEB85D8806FF7BDEC1F",
    "jupyter": {
     "outputs_hidden": false
    },
    "notebookId": "66d9595c20251d33778caaad",
    "slideshow": {
     "slide_type": "slide"
    },
    "tags": []
   },
   "outputs": [],
   "source": [
    "#计算F：每个用户消费频率\n",
    "F = buy_df.groupby(by='user_id')['date'].count()"
   ]
  },
  {
   "cell_type": "code",
   "execution_count": 55,
   "metadata": {
    "collapsed": false,
    "id": "DD5F3FD0E32D4A5C82B238EE398665EB",
    "jupyter": {
     "outputs_hidden": false
    },
    "notebookId": "66d9595c20251d33778caaad",
    "slideshow": {
     "slide_type": "slide"
    },
    "tags": []
   },
   "outputs": [
    {
     "data": {
      "text/plain": [
       "user_id\n",
       "4913      6\n",
       "6118      1\n",
       "7528      6\n",
       "7591     21\n",
       "12645     8\n",
       "Name: date, dtype: int64"
      ]
     },
     "execution_count": 55,
     "metadata": {},
     "output_type": "execute_result"
    }
   ],
   "source": [
    "F.head()"
   ]
  },
  {
   "cell_type": "code",
   "execution_count": 56,
   "metadata": {
    "collapsed": false,
    "id": "914CA4AF1CD541CD832B8C75B12E9F23",
    "jupyter": {
     "outputs_hidden": false
    },
    "notebookId": "66d9595c20251d33778caaad",
    "slideshow": {
     "slide_type": "slide"
    },
    "tags": []
   },
   "outputs": [
    {
     "data": {
      "text/html": [
       "<div>\n",
       "<style scoped>\n",
       "    .dataframe tbody tr th:only-of-type {\n",
       "        vertical-align: middle;\n",
       "    }\n",
       "\n",
       "    .dataframe tbody tr th {\n",
       "        vertical-align: top;\n",
       "    }\n",
       "\n",
       "    .dataframe thead th {\n",
       "        text-align: right;\n",
       "    }\n",
       "</style>\n",
       "<table border=\"1\" class=\"dataframe\">\n",
       "  <thead>\n",
       "    <tr style=\"text-align: right;\">\n",
       "      <th>user_id</th>\n",
       "      <th>4913</th>\n",
       "      <th>6118</th>\n",
       "      <th>7528</th>\n",
       "      <th>7591</th>\n",
       "      <th>12645</th>\n",
       "      <th>54056</th>\n",
       "      <th>63348</th>\n",
       "      <th>79824</th>\n",
       "      <th>88930</th>\n",
       "      <th>100539</th>\n",
       "      <th>...</th>\n",
       "      <th>142306250</th>\n",
       "      <th>142306361</th>\n",
       "      <th>142337230</th>\n",
       "      <th>142358910</th>\n",
       "      <th>142368840</th>\n",
       "      <th>142376113</th>\n",
       "      <th>142412247</th>\n",
       "      <th>142430177</th>\n",
       "      <th>142450275</th>\n",
       "      <th>142455899</th>\n",
       "    </tr>\n",
       "  </thead>\n",
       "  <tbody>\n",
       "    <tr>\n",
       "      <th>R</th>\n",
       "      <td>2.0</td>\n",
       "      <td>1.0</td>\n",
       "      <td>5.0</td>\n",
       "      <td>5.0</td>\n",
       "      <td>4.0</td>\n",
       "      <td>11.0</td>\n",
       "      <td>7.0</td>\n",
       "      <td>2.0</td>\n",
       "      <td>1.0</td>\n",
       "      <td>2.0</td>\n",
       "      <td>...</td>\n",
       "      <td>5.0</td>\n",
       "      <td>0.0</td>\n",
       "      <td>5.0</td>\n",
       "      <td>4.0</td>\n",
       "      <td>2.0</td>\n",
       "      <td>10.0</td>\n",
       "      <td>3.0</td>\n",
       "      <td>0.0</td>\n",
       "      <td>5.0</td>\n",
       "      <td>14.0</td>\n",
       "    </tr>\n",
       "    <tr>\n",
       "      <th>F</th>\n",
       "      <td>6.0</td>\n",
       "      <td>1.0</td>\n",
       "      <td>6.0</td>\n",
       "      <td>21.0</td>\n",
       "      <td>8.0</td>\n",
       "      <td>2.0</td>\n",
       "      <td>1.0</td>\n",
       "      <td>13.0</td>\n",
       "      <td>23.0</td>\n",
       "      <td>18.0</td>\n",
       "      <td>...</td>\n",
       "      <td>10.0</td>\n",
       "      <td>7.0</td>\n",
       "      <td>4.0</td>\n",
       "      <td>2.0</td>\n",
       "      <td>11.0</td>\n",
       "      <td>1.0</td>\n",
       "      <td>11.0</td>\n",
       "      <td>5.0</td>\n",
       "      <td>39.0</td>\n",
       "      <td>8.0</td>\n",
       "    </tr>\n",
       "  </tbody>\n",
       "</table>\n",
       "<p>2 rows × 8886 columns</p>\n",
       "</div>"
      ],
      "text/plain": [
       "user_id  4913       6118       7528       7591       12645      54056      \\\n",
       "R              2.0        1.0        5.0        5.0        4.0       11.0   \n",
       "F              6.0        1.0        6.0       21.0        8.0        2.0   \n",
       "\n",
       "user_id  63348      79824      88930      100539     ...  142306250  \\\n",
       "R              7.0        2.0        1.0        2.0  ...        5.0   \n",
       "F              1.0       13.0       23.0       18.0  ...       10.0   \n",
       "\n",
       "user_id  142306361  142337230  142358910  142368840  142376113  142412247  \\\n",
       "R              0.0        5.0        4.0        2.0       10.0        3.0   \n",
       "F              7.0        4.0        2.0       11.0        1.0       11.0   \n",
       "\n",
       "user_id  142430177  142450275  142455899  \n",
       "R              0.0        5.0       14.0  \n",
       "F              5.0       39.0        8.0  \n",
       "\n",
       "[2 rows x 8886 columns]"
      ]
     },
     "execution_count": 56,
     "metadata": {},
     "output_type": "execute_result"
    }
   ],
   "source": [
    "pd.DataFrame(data=[R,F],index=['R','F'])"
   ]
  },
  {
   "cell_type": "code",
   "execution_count": 57,
   "metadata": {
    "collapsed": false,
    "id": "0F8D6B8CA8D44B3E98F0953D01800ACA",
    "jupyter": {
     "outputs_hidden": false
    },
    "notebookId": "66d9595c20251d33778caaad",
    "slideshow": {
     "slide_type": "slide"
    },
    "tags": []
   },
   "outputs": [],
   "source": [
    "# 交易金额缺失，只考虑最后交易日期和交易频率两个维度"
   ]
  },
  {
   "cell_type": "code",
   "execution_count": 58,
   "metadata": {
    "collapsed": false,
    "id": "E4C88734E7FF44C596E637F34453D4CF",
    "jupyter": {
     "outputs_hidden": false
    },
    "notebookId": "66d9595c20251d33778caaad",
    "slideshow": {
     "slide_type": "slide"
    },
    "tags": []
   },
   "outputs": [
    {
     "data": {
      "text/html": [
       "<div>\n",
       "<style scoped>\n",
       "    .dataframe tbody tr th:only-of-type {\n",
       "        vertical-align: middle;\n",
       "    }\n",
       "\n",
       "    .dataframe tbody tr th {\n",
       "        vertical-align: top;\n",
       "    }\n",
       "\n",
       "    .dataframe thead th {\n",
       "        text-align: right;\n",
       "    }\n",
       "</style>\n",
       "<table border=\"1\" class=\"dataframe\">\n",
       "  <thead>\n",
       "    <tr style=\"text-align: right;\">\n",
       "      <th></th>\n",
       "      <th>R</th>\n",
       "      <th>F</th>\n",
       "    </tr>\n",
       "    <tr>\n",
       "      <th>user_id</th>\n",
       "      <th></th>\n",
       "      <th></th>\n",
       "    </tr>\n",
       "  </thead>\n",
       "  <tbody>\n",
       "    <tr>\n",
       "      <th>4913</th>\n",
       "      <td>2.0</td>\n",
       "      <td>6.0</td>\n",
       "    </tr>\n",
       "    <tr>\n",
       "      <th>6118</th>\n",
       "      <td>1.0</td>\n",
       "      <td>1.0</td>\n",
       "    </tr>\n",
       "    <tr>\n",
       "      <th>7528</th>\n",
       "      <td>5.0</td>\n",
       "      <td>6.0</td>\n",
       "    </tr>\n",
       "    <tr>\n",
       "      <th>7591</th>\n",
       "      <td>5.0</td>\n",
       "      <td>21.0</td>\n",
       "    </tr>\n",
       "    <tr>\n",
       "      <th>12645</th>\n",
       "      <td>4.0</td>\n",
       "      <td>8.0</td>\n",
       "    </tr>\n",
       "  </tbody>\n",
       "</table>\n",
       "</div>"
      ],
      "text/plain": [
       "           R     F\n",
       "user_id           \n",
       "4913     2.0   6.0\n",
       "6118     1.0   1.0\n",
       "7528     5.0   6.0\n",
       "7591     5.0  21.0\n",
       "12645    4.0   8.0"
      ]
     },
     "execution_count": 58,
     "metadata": {},
     "output_type": "execute_result"
    }
   ],
   "source": [
    "rfm = pd.DataFrame(data=[R,F],index=['R','F']).T\n",
    "rfm.head()"
   ]
  },
  {
   "cell_type": "code",
   "execution_count": 59,
   "metadata": {
    "collapsed": false,
    "id": "B182D0860D37439FA4E4F63DC1B61CC2",
    "jupyter": {
     "outputs_hidden": false
    },
    "notebookId": "66d9595c20251d33778caaad",
    "slideshow": {
     "slide_type": "slide"
    },
    "tags": []
   },
   "outputs": [],
   "source": [
    "#将各维度分成两个程度\n",
    "recent_avg = rfm['R'].mean()\n",
    "freq_avg = rfm['F'].mean()\n",
    "#  R应该是越小越好，则R小于均值返回1，否则返回0\n",
    "def rec_value(x):\n",
    "    if x < recent_avg:  #  R avg  \n",
    "        return '1'\n",
    "    else:\n",
    "        return '0'\n",
    "# F应该是越大越好，则F大于均值返回1，否则返回0   \n",
    "def freq_value(x):\n",
    "    if x > freq_avg:\n",
    "        return '1'\n",
    "    else:\n",
    "        return '0'\n",
    "rfm['R_value'] = rfm['R'].apply(rec_value)\n",
    "rfm['F_value'] = rfm['F'].apply(freq_value)\n",
    "\n"
   ]
  },
  {
   "cell_type": "code",
   "execution_count": 60,
   "metadata": {
    "collapsed": false,
    "id": "6A3E6B8F41764989A36E5281AC2F5887",
    "jupyter": {
     "outputs_hidden": false
    },
    "notebookId": "66d9595c20251d33778caaad",
    "slideshow": {
     "slide_type": "slide"
    },
    "tags": []
   },
   "outputs": [],
   "source": [
    "#将R和F拼接到一起\n",
    "rfm['rfm']=rfm['R_value'].str.cat(rfm['F_value'])\n"
   ]
  },
  {
   "cell_type": "code",
   "execution_count": 61,
   "metadata": {
    "collapsed": false,
    "id": "090DE57A31E547EBA6FB62C6AC2700A1",
    "jupyter": {
     "outputs_hidden": false
    },
    "notebookId": "66d9595c20251d33778caaad",
    "slideshow": {
     "slide_type": "slide"
    },
    "tags": []
   },
   "outputs": [
    {
     "data": {
      "text/plain": [
       "user_id\n",
       "4913     10\n",
       "6118     10\n",
       "7528     10\n",
       "7591     11\n",
       "12645    10\n",
       "Name: rfm, dtype: object"
      ]
     },
     "execution_count": 61,
     "metadata": {},
     "output_type": "execute_result"
    }
   ],
   "source": [
    "rfm['rfm'].head()"
   ]
  },
  {
   "cell_type": "code",
   "execution_count": 62,
   "metadata": {
    "collapsed": false,
    "id": "58B7341BF85747029DB6F5DBA47004E7",
    "jupyter": {
     "outputs_hidden": false
    },
    "notebookId": "66d9595c20251d33778caaad",
    "slideshow": {
     "slide_type": "slide"
    },
    "tags": []
   },
   "outputs": [
    {
     "data": {
      "text/html": [
       "<div>\n",
       "<style scoped>\n",
       "    .dataframe tbody tr th:only-of-type {\n",
       "        vertical-align: middle;\n",
       "    }\n",
       "\n",
       "    .dataframe tbody tr th {\n",
       "        vertical-align: top;\n",
       "    }\n",
       "\n",
       "    .dataframe thead th {\n",
       "        text-align: right;\n",
       "    }\n",
       "</style>\n",
       "<table border=\"1\" class=\"dataframe\">\n",
       "  <thead>\n",
       "    <tr style=\"text-align: right;\">\n",
       "      <th></th>\n",
       "      <th>R</th>\n",
       "      <th>F</th>\n",
       "      <th>R_value</th>\n",
       "      <th>F_value</th>\n",
       "      <th>rfm</th>\n",
       "      <th>user_type</th>\n",
       "    </tr>\n",
       "    <tr>\n",
       "      <th>user_id</th>\n",
       "      <th></th>\n",
       "      <th></th>\n",
       "      <th></th>\n",
       "      <th></th>\n",
       "      <th></th>\n",
       "      <th></th>\n",
       "    </tr>\n",
       "  </thead>\n",
       "  <tbody>\n",
       "    <tr>\n",
       "      <th>4913</th>\n",
       "      <td>2.0</td>\n",
       "      <td>6.0</td>\n",
       "      <td>1</td>\n",
       "      <td>0</td>\n",
       "      <td>10</td>\n",
       "      <td>重要发展客户</td>\n",
       "    </tr>\n",
       "    <tr>\n",
       "      <th>6118</th>\n",
       "      <td>1.0</td>\n",
       "      <td>1.0</td>\n",
       "      <td>1</td>\n",
       "      <td>0</td>\n",
       "      <td>10</td>\n",
       "      <td>重要发展客户</td>\n",
       "    </tr>\n",
       "    <tr>\n",
       "      <th>7528</th>\n",
       "      <td>5.0</td>\n",
       "      <td>6.0</td>\n",
       "      <td>1</td>\n",
       "      <td>0</td>\n",
       "      <td>10</td>\n",
       "      <td>重要发展客户</td>\n",
       "    </tr>\n",
       "    <tr>\n",
       "      <th>7591</th>\n",
       "      <td>5.0</td>\n",
       "      <td>21.0</td>\n",
       "      <td>1</td>\n",
       "      <td>1</td>\n",
       "      <td>11</td>\n",
       "      <td>重要价值客户</td>\n",
       "    </tr>\n",
       "    <tr>\n",
       "      <th>12645</th>\n",
       "      <td>4.0</td>\n",
       "      <td>8.0</td>\n",
       "      <td>1</td>\n",
       "      <td>0</td>\n",
       "      <td>10</td>\n",
       "      <td>重要发展客户</td>\n",
       "    </tr>\n",
       "  </tbody>\n",
       "</table>\n",
       "</div>"
      ],
      "text/plain": [
       "           R     F R_value F_value rfm user_type\n",
       "user_id                                         \n",
       "4913     2.0   6.0       1       0  10    重要发展客户\n",
       "6118     1.0   1.0       1       0  10    重要发展客户\n",
       "7528     5.0   6.0       1       0  10    重要发展客户\n",
       "7591     5.0  21.0       1       1  11    重要价值客户\n",
       "12645    4.0   8.0       1       0  10    重要发展客户"
      ]
     },
     "execution_count": 62,
     "metadata": {},
     "output_type": "execute_result"
    }
   ],
   "source": [
    "#根据R和F的拼接判定用户等级\n",
    "def rfm_value(x):\n",
    "    if x == '10':  #购买间隔短，但是购买频率低\n",
    "        return '重要发展客户'\n",
    "    elif x == '01':#购买间隔长，但是购买频率高\n",
    "        return '重要保持客户'\n",
    "    elif x == '00':\n",
    "        return '重要挽留客户'\n",
    "    else:\n",
    "        return '重要价值客户'\n",
    "rfm['user_type'] = rfm['rfm'].apply(rfm_value)\n",
    "rfm.head()"
   ]
  },
  {
   "cell_type": "code",
   "execution_count": 63,
   "metadata": {
    "collapsed": false,
    "id": "30FFBBA1FA304F7CA96120E516EA5C5D",
    "jupyter": {
     "outputs_hidden": false
    },
    "notebookId": "66d9595c20251d33778caaad",
    "slideshow": {
     "slide_type": "slide"
    },
    "tags": []
   },
   "outputs": [
    {
     "data": {
      "text/plain": [
       "重要挽留客户    34.233626\n",
       "重要发展客户    33.400855\n",
       "重要价值客户    27.143822\n",
       "重要保持客户     5.221697\n",
       "Name: user_type, dtype: float64"
      ]
     },
     "execution_count": 63,
     "metadata": {},
     "output_type": "execute_result"
    }
   ],
   "source": [
    "#各类用户占比\n",
    "user_type_count_s = rfm['user_type'].value_counts()\n",
    "user_type_count_s / user_type_count_s.sum() * 100"
   ]
  },
  {
   "cell_type": "markdown",
   "metadata": {
    "id": "51EB12F1E594494D865A4DA279E5FD37",
    "jupyter": {},
    "mdEditEnable": false,
    "notebookId": "66d9595c20251d33778caaad",
    "runtime": {
     "execution_status": null,
     "is_visible": false,
     "status": "default"
    },
    "scrolled": false,
    "slideshow": {
     "slide_type": "slide"
    },
    "tags": []
   },
   "source": [
    "- 结论  \n",
    "    - 重要挽留客户：占比最大，该类用户消费时间间隔较远，并且消费频次低。需要主动联系客户，调查清楚哪里出现了问题，可以通过短信，邮件，APP推送等唤醒客户，尽可能减少流失。  \n",
    "    - 重要发展客户：消费频次低，可以适当给点折扣或捆绑销售来增加用户的购买频率，尽可能提高留存率。  \n",
    "    - 重要价值客户：为重点用户，但用户比较少。可以针对性地给这类客户提供 VIP服务；  \n",
    "    - 重要保持客户：消费时间间隔较远，但是消费频次高。该类用户可能一次性购买很多东西。对于这类客户，需要主动联系，关注他们的购物习性做精准化营销，及时满足这类用户的需求。  \n"
   ]
  }
 ],
 "metadata": {
  "kernelspec": {
   "display_name": "Python 3 (ipykernel)",
   "language": "python",
   "name": "python3"
  },
  "language_info": {
   "codemirror_mode": {
    "name": "ipython",
    "version": 3
   },
   "file_extension": ".py",
   "mimetype": "text/x-python",
   "name": "python",
   "nbconvert_exporter": "python",
   "pygments_lexer": "ipython3",
   "version": "3.12.4"
  }
 },
 "nbformat": 4,
 "nbformat_minor": 4
}
